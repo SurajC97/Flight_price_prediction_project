{
 "cells": [
  {
   "cell_type": "markdown",
   "metadata": {},
   "source": [
    "# Flight Price Prediction"
   ]
  },
  {
   "cell_type": "markdown",
   "metadata": {},
   "source": [
    "### Data description"
   ]
  },
  {
   "cell_type": "markdown",
   "metadata": {},
   "source": [
    "Booking a flight nowadays has become very unpredictable with respect to the fare of the flights. Also with the covid 19 impact on the transport industry, it has become more challenging to keep up with the fluctuating prices of fares of the flights. Anyone who has booked a flight ticket knows how unexpectedly the prices of tickets vary. The cheapest available ticket on a given flight gets more and less expensive over time. This usually happens as an attempt to maximize revenue based on:\n",
    "\n",
    "1. Time of purchase patterns (making sure last-minute purchases are expensive) \n",
    "2. Keeping the flight as full as they want it (raising prices on a flight which is filling up in order to reduce sales and hold back inventory for those expensive last-minute expensive purchases)\n",
    "\n",
    "With an aim to increase their profits the airlines play these kinds of tricks very often, making the customers clueless on what the fare might be. So here, we have to work on this project where we need to collect data of flight fares along with other features and work to make a model to predict fares of flights.\n",
    "\n",
    "The project consists of three phases, and this notebook will contain the second and the third phase where we have to do some analysis on the scraped data amd find answers to the following queries: Do airfares change frequently? Do they move in small increments or in large jumps? Do they tend to go up or down over time? What is the best time to buy so that the consumer can save the most by taking the least risk? Does price increase as we get near to departure date? Are morning flights expensive?\n",
    "\n",
    "After analysing the data and finding the answers, we need to build a machine learning model, and before model building we need to do all data pre-processing steps then try different models with different hyper parameters and select the best model.\n"
   ]
  },
  {
   "cell_type": "markdown",
   "metadata": {},
   "source": [
    "### Importing Libraries"
   ]
  },
  {
   "cell_type": "code",
   "execution_count": 1,
   "metadata": {},
   "outputs": [],
   "source": [
    "import numpy as np\n",
    "import pandas as pd\n",
    "import matplotlib.pyplot as plt\n",
    "import seaborn as sns\n",
    "from sklearn.model_selection import train_test_split\n",
    "from sklearn.linear_model import LinearRegression\n",
    "from sklearn.metrics import r2_score\n",
    "from sklearn.metrics import mean_squared_error, mean_absolute_error\n",
    "import warnings\n",
    "warnings.filterwarnings('ignore')"
   ]
  },
  {
   "cell_type": "markdown",
   "metadata": {},
   "source": [
    "### Loading the dataset"
   ]
  },
  {
   "cell_type": "code",
   "execution_count": 2,
   "metadata": {},
   "outputs": [
    {
     "data": {
      "text/html": [
       "<div>\n",
       "<style scoped>\n",
       "    .dataframe tbody tr th:only-of-type {\n",
       "        vertical-align: middle;\n",
       "    }\n",
       "\n",
       "    .dataframe tbody tr th {\n",
       "        vertical-align: top;\n",
       "    }\n",
       "\n",
       "    .dataframe thead th {\n",
       "        text-align: right;\n",
       "    }\n",
       "</style>\n",
       "<table border=\"1\" class=\"dataframe\">\n",
       "  <thead>\n",
       "    <tr style=\"text-align: right;\">\n",
       "      <th></th>\n",
       "      <th>Unnamed: 0</th>\n",
       "      <th>Airline</th>\n",
       "      <th>Date</th>\n",
       "      <th>Source</th>\n",
       "      <th>Destination</th>\n",
       "      <th>Departure_time</th>\n",
       "      <th>Arrival_time</th>\n",
       "      <th>Duration</th>\n",
       "      <th>Stops</th>\n",
       "      <th>Price</th>\n",
       "    </tr>\n",
       "  </thead>\n",
       "  <tbody>\n",
       "    <tr>\n",
       "      <th>0</th>\n",
       "      <td>0</td>\n",
       "      <td>Air India</td>\n",
       "      <td>9 Oct</td>\n",
       "      <td>New Delhi</td>\n",
       "      <td>Mumbai</td>\n",
       "      <td>04:55</td>\n",
       "      <td>14:25</td>\n",
       "      <td>9h 30m</td>\n",
       "      <td>1 Stop</td>\n",
       "      <td>17,990</td>\n",
       "    </tr>\n",
       "    <tr>\n",
       "      <th>1</th>\n",
       "      <td>1</td>\n",
       "      <td>Air India</td>\n",
       "      <td>9 Oct</td>\n",
       "      <td>New Delhi</td>\n",
       "      <td>Mumbai</td>\n",
       "      <td>05:20</td>\n",
       "      <td>23:05</td>\n",
       "      <td>17h 45m</td>\n",
       "      <td>2 Stop(s)</td>\n",
       "      <td>9,000</td>\n",
       "    </tr>\n",
       "    <tr>\n",
       "      <th>2</th>\n",
       "      <td>2</td>\n",
       "      <td>Air India</td>\n",
       "      <td>9 Oct</td>\n",
       "      <td>New Delhi</td>\n",
       "      <td>Mumbai</td>\n",
       "      <td>05:20</td>\n",
       "      <td>09:20</td>\n",
       "      <td>28h 00m</td>\n",
       "      <td>2 Stop(s)</td>\n",
       "      <td>9,000</td>\n",
       "    </tr>\n",
       "    <tr>\n",
       "      <th>3</th>\n",
       "      <td>3</td>\n",
       "      <td>Air Asia</td>\n",
       "      <td>9 Oct</td>\n",
       "      <td>New Delhi</td>\n",
       "      <td>Mumbai</td>\n",
       "      <td>05:35</td>\n",
       "      <td>22:10</td>\n",
       "      <td>16h 35m</td>\n",
       "      <td>2 Stop(s)</td>\n",
       "      <td>6,166</td>\n",
       "    </tr>\n",
       "    <tr>\n",
       "      <th>4</th>\n",
       "      <td>4</td>\n",
       "      <td>Air India</td>\n",
       "      <td>9 Oct</td>\n",
       "      <td>New Delhi</td>\n",
       "      <td>Mumbai</td>\n",
       "      <td>05:45</td>\n",
       "      <td>09:40</td>\n",
       "      <td>3h 55m</td>\n",
       "      <td>1 Stop</td>\n",
       "      <td>7,468</td>\n",
       "    </tr>\n",
       "    <tr>\n",
       "      <th>...</th>\n",
       "      <td>...</td>\n",
       "      <td>...</td>\n",
       "      <td>...</td>\n",
       "      <td>...</td>\n",
       "      <td>...</td>\n",
       "      <td>...</td>\n",
       "      <td>...</td>\n",
       "      <td>...</td>\n",
       "      <td>...</td>\n",
       "      <td>...</td>\n",
       "    </tr>\n",
       "    <tr>\n",
       "      <th>5835</th>\n",
       "      <td>6136</td>\n",
       "      <td>Vistara</td>\n",
       "      <td>Oct 24 2021</td>\n",
       "      <td>Mumbai</td>\n",
       "      <td>Ahmedabad</td>\n",
       "      <td>11:55</td>\n",
       "      <td>10:20</td>\n",
       "      <td>22h 25m</td>\n",
       "      <td>1 Stop</td>\n",
       "      <td>10,668</td>\n",
       "    </tr>\n",
       "    <tr>\n",
       "      <th>5836</th>\n",
       "      <td>6137</td>\n",
       "      <td>GO FIRST</td>\n",
       "      <td>Oct 24 2021</td>\n",
       "      <td>Mumbai</td>\n",
       "      <td>Ahmedabad</td>\n",
       "      <td>12:40</td>\n",
       "      <td>17:10</td>\n",
       "      <td>4h 30m</td>\n",
       "      <td>1 Stop</td>\n",
       "      <td>9,461</td>\n",
       "    </tr>\n",
       "    <tr>\n",
       "      <th>5837</th>\n",
       "      <td>6138</td>\n",
       "      <td>GO FIRST</td>\n",
       "      <td>Oct 24 2021</td>\n",
       "      <td>Mumbai</td>\n",
       "      <td>Ahmedabad</td>\n",
       "      <td>12:40</td>\n",
       "      <td>22:05</td>\n",
       "      <td>9h 25m</td>\n",
       "      <td>1 Stop</td>\n",
       "      <td>9,461</td>\n",
       "    </tr>\n",
       "    <tr>\n",
       "      <th>5838</th>\n",
       "      <td>6139</td>\n",
       "      <td>GO FIRST</td>\n",
       "      <td>Oct 24 2021</td>\n",
       "      <td>Mumbai</td>\n",
       "      <td>Ahmedabad</td>\n",
       "      <td>13:25</td>\n",
       "      <td>21:45</td>\n",
       "      <td>8h 20m</td>\n",
       "      <td>1 Stop</td>\n",
       "      <td>10,537</td>\n",
       "    </tr>\n",
       "    <tr>\n",
       "      <th>5839</th>\n",
       "      <td>6140</td>\n",
       "      <td>TruJet</td>\n",
       "      <td>Oct 24 2021</td>\n",
       "      <td>Mumbai</td>\n",
       "      <td>Ahmedabad</td>\n",
       "      <td>13:30</td>\n",
       "      <td>16:30</td>\n",
       "      <td>3h 0m</td>\n",
       "      <td>1 Stop</td>\n",
       "      <td>3,499</td>\n",
       "    </tr>\n",
       "  </tbody>\n",
       "</table>\n",
       "<p>5840 rows × 10 columns</p>\n",
       "</div>"
      ],
      "text/plain": [
       "      Unnamed: 0    Airline         Date     Source Destination  \\\n",
       "0              0  Air India        9 Oct  New Delhi      Mumbai   \n",
       "1              1  Air India        9 Oct  New Delhi      Mumbai   \n",
       "2              2  Air India        9 Oct  New Delhi      Mumbai   \n",
       "3              3   Air Asia        9 Oct  New Delhi      Mumbai   \n",
       "4              4  Air India        9 Oct  New Delhi      Mumbai   \n",
       "...          ...        ...          ...        ...         ...   \n",
       "5835        6136    Vistara  Oct 24 2021     Mumbai   Ahmedabad   \n",
       "5836        6137   GO FIRST  Oct 24 2021     Mumbai   Ahmedabad   \n",
       "5837        6138   GO FIRST  Oct 24 2021     Mumbai   Ahmedabad   \n",
       "5838        6139   GO FIRST  Oct 24 2021     Mumbai   Ahmedabad   \n",
       "5839        6140     TruJet  Oct 24 2021     Mumbai   Ahmedabad   \n",
       "\n",
       "     Departure_time Arrival_time  Duration      Stops   Price  \n",
       "0             04:55        14:25    9h 30m     1 Stop  17,990  \n",
       "1             05:20        23:05   17h 45m  2 Stop(s)   9,000  \n",
       "2             05:20        09:20   28h 00m  2 Stop(s)   9,000  \n",
       "3             05:35        22:10   16h 35m  2 Stop(s)   6,166  \n",
       "4             05:45        09:40    3h 55m     1 Stop   7,468  \n",
       "...             ...          ...       ...        ...     ...  \n",
       "5835          11:55        10:20  22h 25m      1 Stop  10,668  \n",
       "5836          12:40        17:10   4h 30m      1 Stop   9,461  \n",
       "5837          12:40        22:05   9h 25m      1 Stop   9,461  \n",
       "5838          13:25        21:45   8h 20m      1 Stop  10,537  \n",
       "5839          13:30        16:30    3h 0m      1 Stop   3,499  \n",
       "\n",
       "[5840 rows x 10 columns]"
      ]
     },
     "execution_count": 2,
     "metadata": {},
     "output_type": "execute_result"
    }
   ],
   "source": [
    "df= pd.read_excel('final_flights.xlsx')\n",
    "df"
   ]
  },
  {
   "cell_type": "markdown",
   "metadata": {},
   "source": [
    "### EDA"
   ]
  },
  {
   "cell_type": "code",
   "execution_count": 3,
   "metadata": {},
   "outputs": [
    {
     "data": {
      "text/plain": [
       "(5840, 10)"
      ]
     },
     "execution_count": 3,
     "metadata": {},
     "output_type": "execute_result"
    }
   ],
   "source": [
    "df.shape"
   ]
  },
  {
   "cell_type": "markdown",
   "metadata": {},
   "source": [
    "Here we have 5840 rows and 10 columns in the dataset."
   ]
  },
  {
   "cell_type": "code",
   "execution_count": 4,
   "metadata": {},
   "outputs": [
    {
     "data": {
      "text/plain": [
       "Index(['Unnamed: 0', 'Airline', 'Date', 'Source', 'Destination',\n",
       "       'Departure_time', 'Arrival_time', 'Duration', 'Stops', 'Price'],\n",
       "      dtype='object')"
      ]
     },
     "execution_count": 4,
     "metadata": {},
     "output_type": "execute_result"
    }
   ],
   "source": [
    "df.columns"
   ]
  },
  {
   "cell_type": "markdown",
   "metadata": {},
   "source": [
    "We can see that the dataset contains an unwanted column, i.e the index column, hence we will drop the column."
   ]
  },
  {
   "cell_type": "code",
   "execution_count": 5,
   "metadata": {},
   "outputs": [],
   "source": [
    "df.drop(['Unnamed: 0'], axis=1, inplace=True)"
   ]
  },
  {
   "cell_type": "code",
   "execution_count": 6,
   "metadata": {},
   "outputs": [
    {
     "data": {
      "text/plain": [
       "Airline           object\n",
       "Date              object\n",
       "Source            object\n",
       "Destination       object\n",
       "Departure_time    object\n",
       "Arrival_time      object\n",
       "Duration          object\n",
       "Stops             object\n",
       "Price             object\n",
       "dtype: object"
      ]
     },
     "execution_count": 6,
     "metadata": {},
     "output_type": "execute_result"
    }
   ],
   "source": [
    "# Checking the data types.\n",
    "\n",
    "df.dtypes"
   ]
  },
  {
   "cell_type": "markdown",
   "metadata": {},
   "source": [
    "We can see that the dataset contains all object type data even our target column, in the further steps we have to convert them to numeric type in order to build our model."
   ]
  },
  {
   "cell_type": "code",
   "execution_count": 7,
   "metadata": {},
   "outputs": [
    {
     "data": {
      "text/plain": [
       "Airline           0\n",
       "Date              0\n",
       "Source            0\n",
       "Destination       0\n",
       "Departure_time    0\n",
       "Arrival_time      0\n",
       "Duration          0\n",
       "Stops             0\n",
       "Price             0\n",
       "dtype: int64"
      ]
     },
     "execution_count": 7,
     "metadata": {},
     "output_type": "execute_result"
    }
   ],
   "source": [
    "# Checking for null values.\n",
    "\n",
    "df.isnull().sum()"
   ]
  },
  {
   "cell_type": "markdown",
   "metadata": {},
   "source": [
    "Here, we can see that there are no null values present in the dataset."
   ]
  },
  {
   "cell_type": "code",
   "execution_count": 8,
   "metadata": {},
   "outputs": [
    {
     "data": {
      "image/png": "[encoded data removed]",
      "text/plain": [
       "<Figure size 1080x432 with 2 Axes>"
      ]
     },
     "metadata": {
      "needs_background": "light"
     },
     "output_type": "display_data"
    }
   ],
   "source": [
    "plt.figure(figsize=[15,6])\n",
    "sns.heatmap(df.isnull())\n",
    "plt.title('Null values')\n",
    "plt.show()"
   ]
  },
  {
   "cell_type": "markdown",
   "metadata": {},
   "source": [
    "Through visualization also we can see that there are no null values present in any of the columns."
   ]
  },
  {
   "cell_type": "code",
   "execution_count": 9,
   "metadata": {},
   "outputs": [
    {
     "name": "stdout",
     "output_type": "stream",
     "text": [
      "Airline\n",
      "['Air India' 'Air Asia' 'Vistara' 'SpiceJet' 'IndiGo' 'Go First'\n",
      " 'AirAsia India' 'AirIndia' 'GO FIRST' 'TruJet']\n",
      "Date\n",
      "['9 Oct' '10 Oct' '12 Oct' '14 Oct' '16 Oct' '18 Oct' '20 Oct' '24 Oct'\n",
      " 'Oct 10 2021' 'Oct 11 2021' 'Oct 12 2021' 'Oct 13 2021' 'Oct 14 2021'\n",
      " 'Oct 15 2021' 'Oct 16 2021' 'Oct 17 2021' 'Oct 18 2021' 'Oct 19 2021'\n",
      " 'Oct 20 2021' 'Oct 21 2021' 'Oct 22 2021' 'Oct 23 2021' 'Oct 24 2021'\n",
      " 'Oct 25 2021']\n",
      "Source\n",
      "['New Delhi' 'Mumbai' 'Bangalore' 'Chennai' 'Hyderabad' 'Goa' 'Kolkata'\n",
      " 'Pune' 'Jaipur' 'Delhi']\n",
      "Destination\n",
      "['Mumbai' 'Bangalore' 'Chennai' 'Hyderabad' 'Goa' 'Kolkata' 'Pune'\n",
      " 'Jaipur' 'Lucknow' 'Delhi' 'Patna' 'Ahmedabad']\n",
      "Departure_time\n",
      "['04:55' '05:20' '05:35' '05:45' '06:00' '06:05' '06:10' '06:15' '06:50'\n",
      " '07:00' '07:10' '07:20' '07:30' '07:40' '08:00' '08:10' '06:35' '07:15'\n",
      " '05:00' '06:20' '05:55' '06:45' '06:55' '07:05' '07:25' '05:30' '07:50'\n",
      " '07:55' '08:05' '08:15' '08:30' '06:40' '08:20' '08:35' '09:30' '10:40'\n",
      " '11:30' '11:50' '15:00' '15:15' '16:05' '17:55' '10:25' '09:20' '05:15'\n",
      " '09:50' '10:10' '12:20' '13:00' '13:25' '14:30' '15:50' '05:25' '09:00'\n",
      " '09:05' '09:55' '08:40' '08:25' '09:10' '10:05' '11:15' '12:35' '13:35'\n",
      " '16:15' '16:40' '11:05' '13:20' '05:10' '11:10' '11:35' '12:10' '09:15'\n",
      " '11:20' '12:00' '12:15' '11:45' '09:25' '10:55' '11:55' '11:25' '01:10'\n",
      " '09:35' '09:40' '10:15' '05:40' '06:25' '07:35' '08:45' '00:05' '07:45'\n",
      " '16:10' '17:20' '18:05' '18:50' '19:40' '12:05' '13:30' '14:05' '14:55'\n",
      " '15:30' '15:55' '13:05' '15:45' '12:40' '13:55' '14:00' '10:20' '03:45'\n",
      " '10:50' '10:00' '21:20' '00:20' '02:10' '06:30' '04:30' '20:30' '18:45'\n",
      " '19:45' '16:30' '12:55' '21:50' '17:40' '18:35' '19:10' '16:25' '14:50'\n",
      " '18:25' '11:00' '14:35' '22:35' '20:45' '21:30' '19:55' '20:10' '21:10'\n",
      " '20:20' '18:40' '18:15' '18:30' '21:15' '20:00' '21:55' '19:00' '14:40'\n",
      " '14:20' '22:45' '18:00' '19:30' '16:50' '16:45' '18:10' '10:35' '19:20'\n",
      " '08:55' '19:25' '22:15' '21:00' '17:30' '16:55' '02:45' '04:15' '05:50'\n",
      " '08:50' '16:35' '23:05' '22:50' '20:50' '17:45' '09:45' '11:40' '16:00'\n",
      " '20:15' '21:40' '14:10' '18:20' '10:30' '15:20' '20:55' '15:10' '15:40']\n",
      "Arrival_time\n",
      "['14:25' '23:05' '09:20' '22:10' '09:40' '23:25' '08:00' '14:45' '08:20'\n",
      " '09:05' '16:55' '15:00' '23:00' '10:40' '13:10' '16:40' '09:45' '16:50'\n",
      " '10:10' '16:35' '18:15' '13:00' '15:55' '11:20' '20:15' '13:25' '15:50'\n",
      " '09:35' '14:55' '15:40' '17:45' '18:45' '13:40' '07:10' '20:00' '23:30'\n",
      " '16:25' '21:05' '14:35' '14:15' '08:35' '22:20' '08:55' '23:55' '18:20'\n",
      " '07:45' '07:55' '20:40' '15:25' '08:50' '22:15' '09:00' '18:30' '12:05'\n",
      " '15:20' '18:50' '20:25' '22:30' '22:40' '23:20' '22:55' '21:45' '23:40'\n",
      " '16:15' '12:00' '16:45' '23:35' '07:15' '09:10' '08:15' '23:15' '10:55'\n",
      " '11:45' '16:20' '12:50' '16:10' '17:25' '22:45' '12:40' '08:05' '10:25'\n",
      " '07:20' '17:05' '11:40' '06:20' '21:00' '21:20' '20:50' '08:30' '12:55'\n",
      " '19:55' '14:20' '18:55' '12:25' '20:45' '22:35' '19:40' '10:00' '11:35'\n",
      " '10:30' '17:00' '19:50' '09:25' '10:15' '16:00' '17:40' '17:35' '11:55'\n",
      " '20:05' '14:30' '18:40' '20:55' '21:15' '07:05' '20:30' '06:50' '12:45'\n",
      " '10:45' '13:50' '14:40' '13:55' '07:00' '10:50' '09:50' '06:40' '14:50'\n",
      " '08:40' '06:25' '19:10' '12:10' '15:35' '17:50' '19:15' '21:30' '19:35'\n",
      " '22:00' '22:05' '23:10' '00:20' '07:40' '11:05' '19:30' '15:05' '00:05'\n",
      " '21:40' '17:10' '18:05' '18:25' '19:05' '12:35' '13:35' '13:05' '13:30'\n",
      " '11:15' '11:00' '18:10' '13:15' '22:50' '07:30' '18:35' '21:25' '14:00'\n",
      " '21:35' '18:00' '23:45' '08:45' '04:50' '21:55' '00:10' '00:55' '14:05'\n",
      " '16:05' '12:15' '14:10' '19:20' '01:05' '00:45' '02:30' '02:35' '01:00'\n",
      " '00:35' '12:30' '00:30' '17:20' '01:20' '10:05' '07:50' '11:25' '15:10'\n",
      " '07:25' '09:55' '17:55' '16:30' '00:50' '19:45' '11:30' '15:45' '10:35'\n",
      " '08:25' '01:35' '01:40' '19:25' '11:10' '09:15' '15:30' '22:25' '00:25'\n",
      " '21:10' '10:20' '08:10']\n",
      "Duration\n",
      "['9h 30m' '17h 45m' '28h 00m' '16h 35m' '3h 55m' '17h 40m' '2h 00m'\n",
      " '8h 40m' '2h 10m' '2h 05m' '2h 15m' '10h 05m' '7h 50m' '15h 50m'\n",
      " '27h 30m' '5h 50m' '9h 20m' '9h 10m' '8h 35m' '10h 15m' '14h 10m'\n",
      " '4h 50m' '11h 00m' '6h 00m' '14h 55m' '17h 05m' '3h 35m' '6h 15m'\n",
      " '5h 00m' '6h 45m' '7h 30m' '9h 35m' '10h 35m' '12h 05m' '8h 45m'\n",
      " '13h 40m' '15h 30m' '23h 10m' '25h 40m' '4h 00m' '10h 40m' '11h 05m'\n",
      " '6h 35m' '26h 25m' '5h 30m' '9h 00m' '27h 10m' '42h 10m' '12h 25m'\n",
      " '8h 25m' '16h 20m' '1h 40m' '1h 35m' '14h 20m' '25h 55m' '1h 50m'\n",
      " '15h 15m' '16h 55m' '1h 55m' '16h 50m' '25h 50m' '6h 50m' '9h 25m'\n",
      " '13h 00m' '6h 05m' '6h 55m' '11h 20m' '12h 55m' '15h 00m' '15h 10m'\n",
      " '7h 10m' '15h 25m' '10h 00m' '14h 45m' '15h 55m' '9h 05m' '5h 35m'\n",
      " '10h 55m' '9h 15m' '5h 15m' '17h 00m' '9h 40m' '17h 10m' '15h 20m'\n",
      " '7h 40m' '28h 20m' '28h 15m' '13h 45m' '24h 35m' '26h 15m' '26h 30m'\n",
      " '1h 05m' '22h 40m' '24h 20m' '26h 20m' '28h 50m' '1h 00m' '1h 10m'\n",
      " '16h 45m' '1h 20m' '16h 15m' '17h 25m' '25h 05m' '26h 45m' '13h 15m'\n",
      " '15h 45m' '8h 20m' '12h 15m' '26h 10m' '28h 05m' '17h 50m' '23h 40m'\n",
      " '13h 10m' '22h 15m' '25h 30m' '22h 30m' '20h 50m' '14h 40m' '24h 55m'\n",
      " '27h 05m' '9h 45m' '23h 00m' '31h 20m' '33h 10m' '5h 10m' '7h 15m'\n",
      " '4h 35m' '6h 10m' '6h 40m' '16h 25m' '14h 25m' '28h 10m' '9h 55m'\n",
      " '12h 45m' '1h 15m' '14h 35m' '8h 30m' '26h 00m' '13h 55m' '17h 15m'\n",
      " '10h 10m' '32h 35m' '5h 25m' '12h 30m' '14h 15m' '29h 25m' '23h 15m'\n",
      " '35h 25m' '25h 20m' '23h 20m' '6h 20m' '22h 25m' '10h 45m' '1h 25m'\n",
      " '24h 50m' '27h 45m' '27h 25m' '19h 55m' '7h 00m' '8h 00m' '19h 45m'\n",
      " '12h 10m' '24h 25m' '27h 35m' '13h 50m' '24h 10m' '23h 30m' '19h 35m'\n",
      " '11h 40m' '28h 40m' '11h 55m' '11h 10m' '20h 45m' '22h 00m' '5h 40m'\n",
      " '8h 15m' '9h 50m' '7h 25m' '21h 40m' '21h 00m' '24h 00m' '7h 55m'\n",
      " '2h 50m' '20h 25m' '12h 20m' '19h 50m' '7h 45m' '21h 30m' '6h 25m'\n",
      " '13h 20m' '8h 50m' '8h 10m' '20h 15m' '10h 25m' '11h 15m' '8h 05m'\n",
      " '5h 55m' '11h 50m' '7h 20m' '5h 20m' '25h 45m' '3h 40m' '29h 10m'\n",
      " '29h 00m' '27h 20m' '22h 35m' '6h 30m' '13h 25m' '18h 25m' '15h 40m'\n",
      " '4h 25m' '19h 40m' '25h 25m' '20h 35m' '16h 30m' '21h 10m' '5h 45m'\n",
      " '23h 35m' '10h 20m' '20h 30m' '29h 40m' '21h 55m' '33h 20m' '18h 15m'\n",
      " '30h 45m' '3h 25m' '7h 35m' '24h 45m' '28h 30m' '25h 00m' '23h 25m '\n",
      " '8h 25m ' '2h 40m ' '2h 50m ' '5h 10m ' '15h 15m ' '17h 15m ' '11h 0m '\n",
      " '18h 0m ' '7h 20m ' '5h 55m ' '3h 0m ' '25h 35m ' '2h 45m ' '11h 25m '\n",
      " '13h 0m ' '14h 0m ' '16h 20m ' '17h 30m ' '18h 15m ' '6h 0m ' '10h 15m '\n",
      " '7h 25m ' '10h 5m ' '10h 25m ' '6h 10m ' '16h 30m ' '9h 10m ' '5h 35m '\n",
      " '11h 40m ' '13h 50m ' '14h 35m ' '16h 45m ' '12h 45m ' '8h 30m '\n",
      " '12h 30m ' '8h 10m ' '4h 55m ' '17h 5m ' '17h 50m ' '25h 50m ' '8h 15m '\n",
      " '9h 25m ' '19h 40m ' '8h 20m ' '6h 15m ' '12h 40m ' '26h 45m ' '7h 30m '\n",
      " '4h 35m ' '6h 45m ' '7h 40m ' '7h 50m ' '5h 15m ' '5h 20m ' '5h 30m '\n",
      " '5h 50m ' '6h 5m ' '7h 5m ' '7h 55m ' '8h 5m ' '6h 30m ' '7h 10m '\n",
      " '8h 55m ' '25h 55m ' '4h 50m ' '2h 30m ' '6h 50m ' '13h 55m ' '6h 25m '\n",
      " '12h 15m ' '13h 25m ' '8h 50m ' '11h 10m ' '7h 15m ' '12h 25m '\n",
      " '23h 20m ' '8h 35m ' '5h 25m ' '24h 30m ' '7h 45m ' '13h 30m ' '23h 50m '\n",
      " '4h 30m ' '7h 35m ' '22h 50m ' '11h 30m ' '14h 45m ' '11h 15m '\n",
      " '11h 35m ' '13h 45m ' '14h 5m ' '15h 35m ' '18h 5m ' '21h 45m ' '23h 0m '\n",
      " '23h 40m ' '26h 5m ' '4h 25m ' '9h 20m ' '18h 30m ' '19h 20m ' '21h 0m '\n",
      " '2h 35m ' '13h 40m ' '10h 20m ' '2h 25m ' '6h 40m ' '6h 35m ' '11h 45m '\n",
      " '14h 10m ' '2h 5m ' '2h 10m ' '2h 15m ' '2h 20m ' '3h 35m ' '16h 25m '\n",
      " '20h 0m ' '20h 40m ' '22h 40m ' '2h 0m ' '8h 45m ' '14h 55m ' '17h 45m '\n",
      " '11h 5m ' '3h 55m ' '17h 40m ' '15h 50m ' '8h 40m ' '15h 30m ' '10h 35m '\n",
      " '5h 0m ' '14h 30m ' '4h 0m ' '10h 40m ' '9h 35m ' '9h 30m ' '26h 25m '\n",
      " '16h 35m ' '23h 10m ' '25h 40m ' '1h 30m ' '1h 40m ' '1h 45m ' '1h 35m '\n",
      " '1h 20m ' '1h 50m ' '3h 40m ' '22h 30m ' '12h 5m ' '12h 20m ' '25h 15m '\n",
      " '7h 0m ' '13h 20m ' '15h 45m ' '10h 55m ' '26h 10m ' '26h 35m '\n",
      " '16h 15m ' '12h 35m ' '10h 50m ' '9h 15m ' '9h 50m ' '6h 20m ' '25h 45m '\n",
      " '15h 20m ' '3h 50m ' '15h 5m ' '5h 45m ' '26h 20m ' '24h 50m ' '26h 15m '\n",
      " '4h 45m ' '24h 5m ' '8h 0m ' '12h 0m ' '24h 55m ' '1h 55m ' '1h 15m '\n",
      " '13h 10m ' '9h 0m ' '14h 20m ' '16h 55m ' '9h 40m ' '14h 40m ' '10h 0m '\n",
      " '6h 55m ' '11h 20m ' '12h 55m ' '15h 10m ' '15h 25m ' '15h 55m '\n",
      " '17h 10m ' '9h 5m ' '16h 50m ' '9h 45m ' '4h 10m ' '1h 25m ' '13h 35m '\n",
      " '19h 10m ' '21h 15m ' '22h 45m ' '24h 0m ' '4h 15m ' '10h 30m ' '0h 50m '\n",
      " '5h 40m ' '26h 55m ' '22h 15m ' '25h 30m ' '4h 20m ' '10h 10m '\n",
      " '26h 30m ' '10h 45m ' '1h 10m ' '1h 5m ' '14h 25m ' '24h 35m ' '22h 35m '\n",
      " '21h 40m ' '23h 55m ' '20h 10m ' '22h 25m ' '12h 10m ' '11h 55m '\n",
      " '17h 25m ' '26h 50m ' '22h 5m ' '18h 35m ']\n",
      "Stops\n",
      "['1 Stop' '2 Stop(s)' 'Non Stop' '3 Stop(s)' '4 Stop(s)' ' 1 Stop'\n",
      " 'Non-Stop' ' 4 Stop' ' 3 Stop' ' 2 Stop']\n",
      "Price\n",
      "['17,990' '9,000' '6,166' ... '9,644' '9,265' '10,129']\n"
     ]
    }
   ],
   "source": [
    "# checking the unique values of each columns.\n",
    "\n",
    "for i in range(len(df.columns)):\n",
    "    print(df.columns[i])\n",
    "    print(df[df.columns[i]].unique())"
   ]
  },
  {
   "cell_type": "markdown",
   "metadata": {},
   "source": [
    "We can see that there are some duplicate values in certain columns, also there are junk data present attached to the actual values. we need to clean the data in order to proceed."
   ]
  },
  {
   "cell_type": "markdown",
   "metadata": {},
   "source": [
    "### Data Cleaning"
   ]
  },
  {
   "cell_type": "markdown",
   "metadata": {},
   "source": [
    "### Feature Airline"
   ]
  },
  {
   "cell_type": "code",
   "execution_count": 10,
   "metadata": {},
   "outputs": [
    {
     "data": {
      "text/plain": [
       "array(['Air India', 'Air Asia', 'Vistara', 'SpiceJet', 'IndiGo',\n",
       "       'Go First', 'AirAsia India', 'AirIndia', 'GO FIRST', 'TruJet'],\n",
       "      dtype=object)"
      ]
     },
     "execution_count": 10,
     "metadata": {},
     "output_type": "execute_result"
    }
   ],
   "source": [
    "df['Airline'].unique()"
   ]
  },
  {
   "cell_type": "markdown",
   "metadata": {},
   "source": [
    "Here we can see that we have duplicate values for 'air india', 'air asia' and 'go first'. Lets correct this."
   ]
  },
  {
   "cell_type": "code",
   "execution_count": 11,
   "metadata": {},
   "outputs": [],
   "source": [
    "df[\"Airline\"].replace(\"Air India\", \"AirIndia\", inplace=True)\n",
    "df[\"Airline\"].replace(\"AirAsia India\", \"Air Asia\", inplace=True)\n",
    "df[\"Airline\"].replace(\"GO FIRST\", \"Go First\", inplace=True)"
   ]
  },
  {
   "cell_type": "code",
   "execution_count": 12,
   "metadata": {},
   "outputs": [
    {
     "data": {
      "text/plain": [
       "AirIndia    1602\n",
       "IndiGo      1377\n",
       "Vistara     1042\n",
       "Air Asia     738\n",
       "Go First     589\n",
       "SpiceJet     489\n",
       "TruJet         3\n",
       "Name: Airline, dtype: int64"
      ]
     },
     "execution_count": 12,
     "metadata": {},
     "output_type": "execute_result"
    }
   ],
   "source": [
    "df['Airline'].value_counts()"
   ]
  },
  {
   "cell_type": "markdown",
   "metadata": {},
   "source": [
    "The duplicacy has been corrected, and here we can see that the 'TruJet' airlines contain only 3 records in the whole dataset, this may lead to a weaker performing model, hence we will drop those records."
   ]
  },
  {
   "cell_type": "code",
   "execution_count": 13,
   "metadata": {},
   "outputs": [],
   "source": [
    "df= df[df[\"Airline\"].str.contains(\"TruJet\")==False]"
   ]
  },
  {
   "cell_type": "code",
   "execution_count": 14,
   "metadata": {},
   "outputs": [
    {
     "data": {
      "text/plain": [
       "array(['AirIndia', 'Air Asia', 'Vistara', 'SpiceJet', 'IndiGo',\n",
       "       'Go First'], dtype=object)"
      ]
     },
     "execution_count": 14,
     "metadata": {},
     "output_type": "execute_result"
    }
   ],
   "source": [
    "df['Airline'].unique()"
   ]
  },
  {
   "cell_type": "markdown",
   "metadata": {},
   "source": [
    "Now we can see that the records are dropped."
   ]
  },
  {
   "cell_type": "markdown",
   "metadata": {},
   "source": [
    "### Feature Date"
   ]
  },
  {
   "cell_type": "code",
   "execution_count": 15,
   "metadata": {},
   "outputs": [
    {
     "data": {
      "text/plain": [
       "array(['9 Oct', '10 Oct', '12 Oct', '14 Oct', '16 Oct', '18 Oct',\n",
       "       '20 Oct', '24 Oct', 'Oct 10 2021', 'Oct 11 2021', 'Oct 12 2021',\n",
       "       'Oct 13 2021', 'Oct 14 2021', 'Oct 15 2021', 'Oct 16 2021',\n",
       "       'Oct 17 2021', 'Oct 18 2021', 'Oct 19 2021', 'Oct 20 2021',\n",
       "       'Oct 21 2021', 'Oct 22 2021', 'Oct 23 2021', 'Oct 24 2021',\n",
       "       'Oct 25 2021'], dtype=object)"
      ]
     },
     "execution_count": 15,
     "metadata": {},
     "output_type": "execute_result"
    }
   ],
   "source": [
    "df['Date'].unique()"
   ]
  },
  {
   "cell_type": "markdown",
   "metadata": {},
   "source": [
    "Here we can see that all the dates are of the same month and same year, hence we can just keep the date as the feature."
   ]
  },
  {
   "cell_type": "code",
   "execution_count": 16,
   "metadata": {},
   "outputs": [],
   "source": [
    "df['Date'] = df['Date'].str.replace(' 2021','')\n",
    "df['Date'] = df['Date'].str.replace(' Oct','')\n",
    "df['Date'] = df['Date'].str.replace('Oct ','')"
   ]
  },
  {
   "cell_type": "code",
   "execution_count": 17,
   "metadata": {},
   "outputs": [
    {
     "data": {
      "text/plain": [
       "array(['9', '10', '12', '14', '16', '18', '20', '24', '11', '13', '15',\n",
       "       '17', '19', '21', '22', '23', '25'], dtype=object)"
      ]
     },
     "execution_count": 17,
     "metadata": {},
     "output_type": "execute_result"
    }
   ],
   "source": [
    "df['Date'].unique()"
   ]
  },
  {
   "cell_type": "markdown",
   "metadata": {},
   "source": [
    "Now we can see that the feature contains only the date."
   ]
  },
  {
   "cell_type": "code",
   "execution_count": 18,
   "metadata": {},
   "outputs": [],
   "source": [
    "df['Date']= df['Date'].astype(int)"
   ]
  },
  {
   "cell_type": "markdown",
   "metadata": {},
   "source": [
    "Here we have converted the feature to integer datatype."
   ]
  },
  {
   "cell_type": "markdown",
   "metadata": {},
   "source": [
    "### Source feature"
   ]
  },
  {
   "cell_type": "code",
   "execution_count": 19,
   "metadata": {},
   "outputs": [
    {
     "data": {
      "text/plain": [
       "array(['New Delhi', 'Mumbai', 'Bangalore', 'Chennai', 'Hyderabad', 'Goa',\n",
       "       'Kolkata', 'Pune', 'Jaipur', 'Delhi'], dtype=object)"
      ]
     },
     "execution_count": 19,
     "metadata": {},
     "output_type": "execute_result"
    }
   ],
   "source": [
    "df['Source'].unique()"
   ]
  },
  {
   "cell_type": "markdown",
   "metadata": {},
   "source": [
    "We can see that the feature contains duplicate values for 'delhi', lets correct this."
   ]
  },
  {
   "cell_type": "code",
   "execution_count": 20,
   "metadata": {},
   "outputs": [],
   "source": [
    "df[\"Source\"].replace(\"New Delhi\", \"Delhi\", inplace=True)"
   ]
  },
  {
   "cell_type": "code",
   "execution_count": 21,
   "metadata": {},
   "outputs": [
    {
     "data": {
      "text/plain": [
       "array(['Delhi', 'Mumbai', 'Bangalore', 'Chennai', 'Hyderabad', 'Goa',\n",
       "       'Kolkata', 'Pune', 'Jaipur'], dtype=object)"
      ]
     },
     "execution_count": 21,
     "metadata": {},
     "output_type": "execute_result"
    }
   ],
   "source": [
    "df['Source'].unique()"
   ]
  },
  {
   "cell_type": "markdown",
   "metadata": {},
   "source": [
    "The duplicacy has been removed."
   ]
  },
  {
   "cell_type": "markdown",
   "metadata": {},
   "source": [
    "### Feature departure_time"
   ]
  },
  {
   "cell_type": "code",
   "execution_count": 22,
   "metadata": {},
   "outputs": [
    {
     "data": {
      "text/plain": [
       "0       04:55\n",
       "1       05:20\n",
       "2       05:20\n",
       "3       05:35\n",
       "4       05:45\n",
       "        ...  \n",
       "5834    11:55\n",
       "5835    11:55\n",
       "5836    12:40\n",
       "5837    12:40\n",
       "5838    13:25\n",
       "Name: Departure_time, Length: 5837, dtype: object"
      ]
     },
     "execution_count": 22,
     "metadata": {},
     "output_type": "execute_result"
    }
   ],
   "source": [
    "df['Departure_time']"
   ]
  },
  {
   "cell_type": "markdown",
   "metadata": {},
   "source": [
    "The feature contains time data but belongs to object data type, lets treat this."
   ]
  },
  {
   "cell_type": "code",
   "execution_count": 23,
   "metadata": {},
   "outputs": [],
   "source": [
    "# converting object datatype to datetime.\n",
    "\n",
    "df['Departure_time']= pd.to_datetime(df['Departure_time']) "
   ]
  },
  {
   "cell_type": "code",
   "execution_count": 24,
   "metadata": {},
   "outputs": [
    {
     "data": {
      "text/plain": [
       "Airline                   object\n",
       "Date                       int32\n",
       "Source                    object\n",
       "Destination               object\n",
       "Departure_time    datetime64[ns]\n",
       "Arrival_time              object\n",
       "Duration                  object\n",
       "Stops                     object\n",
       "Price                     object\n",
       "dtype: object"
      ]
     },
     "execution_count": 24,
     "metadata": {},
     "output_type": "execute_result"
    }
   ],
   "source": [
    "df.dtypes"
   ]
  },
  {
   "cell_type": "markdown",
   "metadata": {},
   "source": [
    "The datatype has been changed to dateandtime."
   ]
  },
  {
   "cell_type": "code",
   "execution_count": 25,
   "metadata": {},
   "outputs": [],
   "source": [
    "# Extracting the hour and minute into two seperate columns.\n",
    "\n",
    "df['Dep_hr']=df['Departure_time'].dt.hour\n",
    "df['Dep_min']=df['Departure_time'].dt.minute"
   ]
  },
  {
   "cell_type": "code",
   "execution_count": 26,
   "metadata": {},
   "outputs": [
    {
     "data": {
      "text/html": [
       "<div>\n",
       "<style scoped>\n",
       "    .dataframe tbody tr th:only-of-type {\n",
       "        vertical-align: middle;\n",
       "    }\n",
       "\n",
       "    .dataframe tbody tr th {\n",
       "        vertical-align: top;\n",
       "    }\n",
       "\n",
       "    .dataframe thead th {\n",
       "        text-align: right;\n",
       "    }\n",
       "</style>\n",
       "<table border=\"1\" class=\"dataframe\">\n",
       "  <thead>\n",
       "    <tr style=\"text-align: right;\">\n",
       "      <th></th>\n",
       "      <th>Airline</th>\n",
       "      <th>Date</th>\n",
       "      <th>Source</th>\n",
       "      <th>Destination</th>\n",
       "      <th>Arrival_time</th>\n",
       "      <th>Duration</th>\n",
       "      <th>Stops</th>\n",
       "      <th>Price</th>\n",
       "      <th>Dep_hr</th>\n",
       "      <th>Dep_min</th>\n",
       "    </tr>\n",
       "  </thead>\n",
       "  <tbody>\n",
       "    <tr>\n",
       "      <th>0</th>\n",
       "      <td>AirIndia</td>\n",
       "      <td>9</td>\n",
       "      <td>Delhi</td>\n",
       "      <td>Mumbai</td>\n",
       "      <td>14:25</td>\n",
       "      <td>9h 30m</td>\n",
       "      <td>1 Stop</td>\n",
       "      <td>17,990</td>\n",
       "      <td>4</td>\n",
       "      <td>55</td>\n",
       "    </tr>\n",
       "    <tr>\n",
       "      <th>1</th>\n",
       "      <td>AirIndia</td>\n",
       "      <td>9</td>\n",
       "      <td>Delhi</td>\n",
       "      <td>Mumbai</td>\n",
       "      <td>23:05</td>\n",
       "      <td>17h 45m</td>\n",
       "      <td>2 Stop(s)</td>\n",
       "      <td>9,000</td>\n",
       "      <td>5</td>\n",
       "      <td>20</td>\n",
       "    </tr>\n",
       "    <tr>\n",
       "      <th>2</th>\n",
       "      <td>AirIndia</td>\n",
       "      <td>9</td>\n",
       "      <td>Delhi</td>\n",
       "      <td>Mumbai</td>\n",
       "      <td>09:20</td>\n",
       "      <td>28h 00m</td>\n",
       "      <td>2 Stop(s)</td>\n",
       "      <td>9,000</td>\n",
       "      <td>5</td>\n",
       "      <td>20</td>\n",
       "    </tr>\n",
       "    <tr>\n",
       "      <th>3</th>\n",
       "      <td>Air Asia</td>\n",
       "      <td>9</td>\n",
       "      <td>Delhi</td>\n",
       "      <td>Mumbai</td>\n",
       "      <td>22:10</td>\n",
       "      <td>16h 35m</td>\n",
       "      <td>2 Stop(s)</td>\n",
       "      <td>6,166</td>\n",
       "      <td>5</td>\n",
       "      <td>35</td>\n",
       "    </tr>\n",
       "    <tr>\n",
       "      <th>4</th>\n",
       "      <td>AirIndia</td>\n",
       "      <td>9</td>\n",
       "      <td>Delhi</td>\n",
       "      <td>Mumbai</td>\n",
       "      <td>09:40</td>\n",
       "      <td>3h 55m</td>\n",
       "      <td>1 Stop</td>\n",
       "      <td>7,468</td>\n",
       "      <td>5</td>\n",
       "      <td>45</td>\n",
       "    </tr>\n",
       "    <tr>\n",
       "      <th>...</th>\n",
       "      <td>...</td>\n",
       "      <td>...</td>\n",
       "      <td>...</td>\n",
       "      <td>...</td>\n",
       "      <td>...</td>\n",
       "      <td>...</td>\n",
       "      <td>...</td>\n",
       "      <td>...</td>\n",
       "      <td>...</td>\n",
       "      <td>...</td>\n",
       "    </tr>\n",
       "    <tr>\n",
       "      <th>5834</th>\n",
       "      <td>Vistara</td>\n",
       "      <td>24</td>\n",
       "      <td>Mumbai</td>\n",
       "      <td>Ahmedabad</td>\n",
       "      <td>08:05</td>\n",
       "      <td>20h 10m</td>\n",
       "      <td>1 Stop</td>\n",
       "      <td>10,668</td>\n",
       "      <td>11</td>\n",
       "      <td>55</td>\n",
       "    </tr>\n",
       "    <tr>\n",
       "      <th>5835</th>\n",
       "      <td>Vistara</td>\n",
       "      <td>24</td>\n",
       "      <td>Mumbai</td>\n",
       "      <td>Ahmedabad</td>\n",
       "      <td>10:20</td>\n",
       "      <td>22h 25m</td>\n",
       "      <td>1 Stop</td>\n",
       "      <td>10,668</td>\n",
       "      <td>11</td>\n",
       "      <td>55</td>\n",
       "    </tr>\n",
       "    <tr>\n",
       "      <th>5836</th>\n",
       "      <td>Go First</td>\n",
       "      <td>24</td>\n",
       "      <td>Mumbai</td>\n",
       "      <td>Ahmedabad</td>\n",
       "      <td>17:10</td>\n",
       "      <td>4h 30m</td>\n",
       "      <td>1 Stop</td>\n",
       "      <td>9,461</td>\n",
       "      <td>12</td>\n",
       "      <td>40</td>\n",
       "    </tr>\n",
       "    <tr>\n",
       "      <th>5837</th>\n",
       "      <td>Go First</td>\n",
       "      <td>24</td>\n",
       "      <td>Mumbai</td>\n",
       "      <td>Ahmedabad</td>\n",
       "      <td>22:05</td>\n",
       "      <td>9h 25m</td>\n",
       "      <td>1 Stop</td>\n",
       "      <td>9,461</td>\n",
       "      <td>12</td>\n",
       "      <td>40</td>\n",
       "    </tr>\n",
       "    <tr>\n",
       "      <th>5838</th>\n",
       "      <td>Go First</td>\n",
       "      <td>24</td>\n",
       "      <td>Mumbai</td>\n",
       "      <td>Ahmedabad</td>\n",
       "      <td>21:45</td>\n",
       "      <td>8h 20m</td>\n",
       "      <td>1 Stop</td>\n",
       "      <td>10,537</td>\n",
       "      <td>13</td>\n",
       "      <td>25</td>\n",
       "    </tr>\n",
       "  </tbody>\n",
       "</table>\n",
       "<p>5837 rows × 10 columns</p>\n",
       "</div>"
      ],
      "text/plain": [
       "       Airline  Date  Source Destination Arrival_time  Duration      Stops  \\\n",
       "0     AirIndia     9   Delhi      Mumbai        14:25    9h 30m     1 Stop   \n",
       "1     AirIndia     9   Delhi      Mumbai        23:05   17h 45m  2 Stop(s)   \n",
       "2     AirIndia     9   Delhi      Mumbai        09:20   28h 00m  2 Stop(s)   \n",
       "3     Air Asia     9   Delhi      Mumbai        22:10   16h 35m  2 Stop(s)   \n",
       "4     AirIndia     9   Delhi      Mumbai        09:40    3h 55m     1 Stop   \n",
       "...        ...   ...     ...         ...          ...       ...        ...   \n",
       "5834   Vistara    24  Mumbai   Ahmedabad        08:05  20h 10m      1 Stop   \n",
       "5835   Vistara    24  Mumbai   Ahmedabad        10:20  22h 25m      1 Stop   \n",
       "5836  Go First    24  Mumbai   Ahmedabad        17:10   4h 30m      1 Stop   \n",
       "5837  Go First    24  Mumbai   Ahmedabad        22:05   9h 25m      1 Stop   \n",
       "5838  Go First    24  Mumbai   Ahmedabad        21:45   8h 20m      1 Stop   \n",
       "\n",
       "       Price  Dep_hr  Dep_min  \n",
       "0     17,990       4       55  \n",
       "1      9,000       5       20  \n",
       "2      9,000       5       20  \n",
       "3      6,166       5       35  \n",
       "4      7,468       5       45  \n",
       "...      ...     ...      ...  \n",
       "5834  10,668      11       55  \n",
       "5835  10,668      11       55  \n",
       "5836   9,461      12       40  \n",
       "5837   9,461      12       40  \n",
       "5838  10,537      13       25  \n",
       "\n",
       "[5837 rows x 10 columns]"
      ]
     },
     "execution_count": 26,
     "metadata": {},
     "output_type": "execute_result"
    }
   ],
   "source": [
    "# dropping the base column.\n",
    "\n",
    "df.drop(['Departure_time'], axis=1, inplace=True)\n",
    "df"
   ]
  },
  {
   "cell_type": "markdown",
   "metadata": {},
   "source": [
    "Now we have two new features containing the deaprture hour and minute, and the column containing the whole data is dropped."
   ]
  },
  {
   "cell_type": "markdown",
   "metadata": {},
   "source": [
    "### Feature Arrival_time"
   ]
  },
  {
   "cell_type": "code",
   "execution_count": 27,
   "metadata": {},
   "outputs": [
    {
     "data": {
      "text/plain": [
       "0       14:25\n",
       "1       23:05\n",
       "2       09:20\n",
       "3       22:10\n",
       "4       09:40\n",
       "        ...  \n",
       "5834    08:05\n",
       "5835    10:20\n",
       "5836    17:10\n",
       "5837    22:05\n",
       "5838    21:45\n",
       "Name: Arrival_time, Length: 5837, dtype: object"
      ]
     },
     "execution_count": 27,
     "metadata": {},
     "output_type": "execute_result"
    }
   ],
   "source": [
    "df['Arrival_time']"
   ]
  },
  {
   "cell_type": "markdown",
   "metadata": {},
   "source": [
    "Just like departure time, here too we have the same type of data with datatype as object. Lets treat this with the same approach."
   ]
  },
  {
   "cell_type": "code",
   "execution_count": 28,
   "metadata": {},
   "outputs": [],
   "source": [
    "# converting object datatype to datetime.\n",
    "\n",
    "df['Arrival_time']= pd.to_datetime(df['Arrival_time']) "
   ]
  },
  {
   "cell_type": "code",
   "execution_count": 29,
   "metadata": {},
   "outputs": [],
   "source": [
    "# Extracting the hour and minute into two seperate columns.\n",
    "\n",
    "df['Arv_hr']=df['Arrival_time'].dt.hour\n",
    "df['Arv_min']=df['Arrival_time'].dt.minute"
   ]
  },
  {
   "cell_type": "code",
   "execution_count": 30,
   "metadata": {},
   "outputs": [
    {
     "data": {
      "text/html": [
       "<div>\n",
       "<style scoped>\n",
       "    .dataframe tbody tr th:only-of-type {\n",
       "        vertical-align: middle;\n",
       "    }\n",
       "\n",
       "    .dataframe tbody tr th {\n",
       "        vertical-align: top;\n",
       "    }\n",
       "\n",
       "    .dataframe thead th {\n",
       "        text-align: right;\n",
       "    }\n",
       "</style>\n",
       "<table border=\"1\" class=\"dataframe\">\n",
       "  <thead>\n",
       "    <tr style=\"text-align: right;\">\n",
       "      <th></th>\n",
       "      <th>Airline</th>\n",
       "      <th>Date</th>\n",
       "      <th>Source</th>\n",
       "      <th>Destination</th>\n",
       "      <th>Duration</th>\n",
       "      <th>Stops</th>\n",
       "      <th>Price</th>\n",
       "      <th>Dep_hr</th>\n",
       "      <th>Dep_min</th>\n",
       "      <th>Arv_hr</th>\n",
       "      <th>Arv_min</th>\n",
       "    </tr>\n",
       "  </thead>\n",
       "  <tbody>\n",
       "    <tr>\n",
       "      <th>0</th>\n",
       "      <td>AirIndia</td>\n",
       "      <td>9</td>\n",
       "      <td>Delhi</td>\n",
       "      <td>Mumbai</td>\n",
       "      <td>9h 30m</td>\n",
       "      <td>1 Stop</td>\n",
       "      <td>17,990</td>\n",
       "      <td>4</td>\n",
       "      <td>55</td>\n",
       "      <td>14</td>\n",
       "      <td>25</td>\n",
       "    </tr>\n",
       "    <tr>\n",
       "      <th>1</th>\n",
       "      <td>AirIndia</td>\n",
       "      <td>9</td>\n",
       "      <td>Delhi</td>\n",
       "      <td>Mumbai</td>\n",
       "      <td>17h 45m</td>\n",
       "      <td>2 Stop(s)</td>\n",
       "      <td>9,000</td>\n",
       "      <td>5</td>\n",
       "      <td>20</td>\n",
       "      <td>23</td>\n",
       "      <td>5</td>\n",
       "    </tr>\n",
       "    <tr>\n",
       "      <th>2</th>\n",
       "      <td>AirIndia</td>\n",
       "      <td>9</td>\n",
       "      <td>Delhi</td>\n",
       "      <td>Mumbai</td>\n",
       "      <td>28h 00m</td>\n",
       "      <td>2 Stop(s)</td>\n",
       "      <td>9,000</td>\n",
       "      <td>5</td>\n",
       "      <td>20</td>\n",
       "      <td>9</td>\n",
       "      <td>20</td>\n",
       "    </tr>\n",
       "    <tr>\n",
       "      <th>3</th>\n",
       "      <td>Air Asia</td>\n",
       "      <td>9</td>\n",
       "      <td>Delhi</td>\n",
       "      <td>Mumbai</td>\n",
       "      <td>16h 35m</td>\n",
       "      <td>2 Stop(s)</td>\n",
       "      <td>6,166</td>\n",
       "      <td>5</td>\n",
       "      <td>35</td>\n",
       "      <td>22</td>\n",
       "      <td>10</td>\n",
       "    </tr>\n",
       "    <tr>\n",
       "      <th>4</th>\n",
       "      <td>AirIndia</td>\n",
       "      <td>9</td>\n",
       "      <td>Delhi</td>\n",
       "      <td>Mumbai</td>\n",
       "      <td>3h 55m</td>\n",
       "      <td>1 Stop</td>\n",
       "      <td>7,468</td>\n",
       "      <td>5</td>\n",
       "      <td>45</td>\n",
       "      <td>9</td>\n",
       "      <td>40</td>\n",
       "    </tr>\n",
       "    <tr>\n",
       "      <th>...</th>\n",
       "      <td>...</td>\n",
       "      <td>...</td>\n",
       "      <td>...</td>\n",
       "      <td>...</td>\n",
       "      <td>...</td>\n",
       "      <td>...</td>\n",
       "      <td>...</td>\n",
       "      <td>...</td>\n",
       "      <td>...</td>\n",
       "      <td>...</td>\n",
       "      <td>...</td>\n",
       "    </tr>\n",
       "    <tr>\n",
       "      <th>5834</th>\n",
       "      <td>Vistara</td>\n",
       "      <td>24</td>\n",
       "      <td>Mumbai</td>\n",
       "      <td>Ahmedabad</td>\n",
       "      <td>20h 10m</td>\n",
       "      <td>1 Stop</td>\n",
       "      <td>10,668</td>\n",
       "      <td>11</td>\n",
       "      <td>55</td>\n",
       "      <td>8</td>\n",
       "      <td>5</td>\n",
       "    </tr>\n",
       "    <tr>\n",
       "      <th>5835</th>\n",
       "      <td>Vistara</td>\n",
       "      <td>24</td>\n",
       "      <td>Mumbai</td>\n",
       "      <td>Ahmedabad</td>\n",
       "      <td>22h 25m</td>\n",
       "      <td>1 Stop</td>\n",
       "      <td>10,668</td>\n",
       "      <td>11</td>\n",
       "      <td>55</td>\n",
       "      <td>10</td>\n",
       "      <td>20</td>\n",
       "    </tr>\n",
       "    <tr>\n",
       "      <th>5836</th>\n",
       "      <td>Go First</td>\n",
       "      <td>24</td>\n",
       "      <td>Mumbai</td>\n",
       "      <td>Ahmedabad</td>\n",
       "      <td>4h 30m</td>\n",
       "      <td>1 Stop</td>\n",
       "      <td>9,461</td>\n",
       "      <td>12</td>\n",
       "      <td>40</td>\n",
       "      <td>17</td>\n",
       "      <td>10</td>\n",
       "    </tr>\n",
       "    <tr>\n",
       "      <th>5837</th>\n",
       "      <td>Go First</td>\n",
       "      <td>24</td>\n",
       "      <td>Mumbai</td>\n",
       "      <td>Ahmedabad</td>\n",
       "      <td>9h 25m</td>\n",
       "      <td>1 Stop</td>\n",
       "      <td>9,461</td>\n",
       "      <td>12</td>\n",
       "      <td>40</td>\n",
       "      <td>22</td>\n",
       "      <td>5</td>\n",
       "    </tr>\n",
       "    <tr>\n",
       "      <th>5838</th>\n",
       "      <td>Go First</td>\n",
       "      <td>24</td>\n",
       "      <td>Mumbai</td>\n",
       "      <td>Ahmedabad</td>\n",
       "      <td>8h 20m</td>\n",
       "      <td>1 Stop</td>\n",
       "      <td>10,537</td>\n",
       "      <td>13</td>\n",
       "      <td>25</td>\n",
       "      <td>21</td>\n",
       "      <td>45</td>\n",
       "    </tr>\n",
       "  </tbody>\n",
       "</table>\n",
       "<p>5837 rows × 11 columns</p>\n",
       "</div>"
      ],
      "text/plain": [
       "       Airline  Date  Source Destination  Duration      Stops   Price  Dep_hr  \\\n",
       "0     AirIndia     9   Delhi      Mumbai    9h 30m     1 Stop  17,990       4   \n",
       "1     AirIndia     9   Delhi      Mumbai   17h 45m  2 Stop(s)   9,000       5   \n",
       "2     AirIndia     9   Delhi      Mumbai   28h 00m  2 Stop(s)   9,000       5   \n",
       "3     Air Asia     9   Delhi      Mumbai   16h 35m  2 Stop(s)   6,166       5   \n",
       "4     AirIndia     9   Delhi      Mumbai    3h 55m     1 Stop   7,468       5   \n",
       "...        ...   ...     ...         ...       ...        ...     ...     ...   \n",
       "5834   Vistara    24  Mumbai   Ahmedabad  20h 10m      1 Stop  10,668      11   \n",
       "5835   Vistara    24  Mumbai   Ahmedabad  22h 25m      1 Stop  10,668      11   \n",
       "5836  Go First    24  Mumbai   Ahmedabad   4h 30m      1 Stop   9,461      12   \n",
       "5837  Go First    24  Mumbai   Ahmedabad   9h 25m      1 Stop   9,461      12   \n",
       "5838  Go First    24  Mumbai   Ahmedabad   8h 20m      1 Stop  10,537      13   \n",
       "\n",
       "      Dep_min  Arv_hr  Arv_min  \n",
       "0          55      14       25  \n",
       "1          20      23        5  \n",
       "2          20       9       20  \n",
       "3          35      22       10  \n",
       "4          45       9       40  \n",
       "...       ...     ...      ...  \n",
       "5834       55       8        5  \n",
       "5835       55      10       20  \n",
       "5836       40      17       10  \n",
       "5837       40      22        5  \n",
       "5838       25      21       45  \n",
       "\n",
       "[5837 rows x 11 columns]"
      ]
     },
     "execution_count": 30,
     "metadata": {},
     "output_type": "execute_result"
    }
   ],
   "source": [
    "# dropping the base column.\n",
    "\n",
    "df.drop(['Arrival_time'], axis=1, inplace=True)\n",
    "df"
   ]
  },
  {
   "cell_type": "markdown",
   "metadata": {},
   "source": [
    "The feature has been treated."
   ]
  },
  {
   "cell_type": "markdown",
   "metadata": {},
   "source": [
    "### Feature Duration"
   ]
  },
  {
   "cell_type": "code",
   "execution_count": 31,
   "metadata": {},
   "outputs": [
    {
     "data": {
      "text/plain": [
       "0         9h 30m\n",
       "1        17h 45m\n",
       "2        28h 00m\n",
       "3        16h 35m\n",
       "4         3h 55m\n",
       "          ...   \n",
       "5834    20h 10m \n",
       "5835    22h 25m \n",
       "5836     4h 30m \n",
       "5837     9h 25m \n",
       "5838     8h 20m \n",
       "Name: Duration, Length: 5837, dtype: object"
      ]
     },
     "execution_count": 31,
     "metadata": {},
     "output_type": "execute_result"
    }
   ],
   "source": [
    "df['Duration']"
   ]
  },
  {
   "cell_type": "markdown",
   "metadata": {},
   "source": [
    "The data conatins time of duration and is in object data type. Lets treat this."
   ]
  },
  {
   "cell_type": "code",
   "execution_count": 32,
   "metadata": {},
   "outputs": [],
   "source": [
    "# extracting the hour and minute into another column by splitting.\n",
    "\n",
    "df[['Dur_hr','Dur_min']] = df.Duration.str.split('h ',1, expand=True)"
   ]
  },
  {
   "cell_type": "code",
   "execution_count": 33,
   "metadata": {},
   "outputs": [],
   "source": [
    "# cleaning the duration_minute column.\n",
    "\n",
    "df['Dur_min'] = df['Dur_min'].str.replace('m','')\n",
    "df['Dur_min'] = df['Dur_min'].str.replace(' ','')"
   ]
  },
  {
   "cell_type": "code",
   "execution_count": 34,
   "metadata": {},
   "outputs": [],
   "source": [
    "# Converting the datatype to integer.\n",
    "\n",
    "df['Dur_min']= df['Dur_min'].astype(int)\n",
    "df['Dur_hr']= df['Dur_hr'].astype(int)"
   ]
  },
  {
   "cell_type": "code",
   "execution_count": 35,
   "metadata": {},
   "outputs": [
    {
     "data": {
      "text/html": [
       "<div>\n",
       "<style scoped>\n",
       "    .dataframe tbody tr th:only-of-type {\n",
       "        vertical-align: middle;\n",
       "    }\n",
       "\n",
       "    .dataframe tbody tr th {\n",
       "        vertical-align: top;\n",
       "    }\n",
       "\n",
       "    .dataframe thead th {\n",
       "        text-align: right;\n",
       "    }\n",
       "</style>\n",
       "<table border=\"1\" class=\"dataframe\">\n",
       "  <thead>\n",
       "    <tr style=\"text-align: right;\">\n",
       "      <th></th>\n",
       "      <th>Airline</th>\n",
       "      <th>Date</th>\n",
       "      <th>Source</th>\n",
       "      <th>Destination</th>\n",
       "      <th>Stops</th>\n",
       "      <th>Price</th>\n",
       "      <th>Dep_hr</th>\n",
       "      <th>Dep_min</th>\n",
       "      <th>Arv_hr</th>\n",
       "      <th>Arv_min</th>\n",
       "      <th>Dur_hr</th>\n",
       "      <th>Dur_min</th>\n",
       "    </tr>\n",
       "  </thead>\n",
       "  <tbody>\n",
       "    <tr>\n",
       "      <th>0</th>\n",
       "      <td>AirIndia</td>\n",
       "      <td>9</td>\n",
       "      <td>Delhi</td>\n",
       "      <td>Mumbai</td>\n",
       "      <td>1 Stop</td>\n",
       "      <td>17,990</td>\n",
       "      <td>4</td>\n",
       "      <td>55</td>\n",
       "      <td>14</td>\n",
       "      <td>25</td>\n",
       "      <td>9</td>\n",
       "      <td>30</td>\n",
       "    </tr>\n",
       "    <tr>\n",
       "      <th>1</th>\n",
       "      <td>AirIndia</td>\n",
       "      <td>9</td>\n",
       "      <td>Delhi</td>\n",
       "      <td>Mumbai</td>\n",
       "      <td>2 Stop(s)</td>\n",
       "      <td>9,000</td>\n",
       "      <td>5</td>\n",
       "      <td>20</td>\n",
       "      <td>23</td>\n",
       "      <td>5</td>\n",
       "      <td>17</td>\n",
       "      <td>45</td>\n",
       "    </tr>\n",
       "    <tr>\n",
       "      <th>2</th>\n",
       "      <td>AirIndia</td>\n",
       "      <td>9</td>\n",
       "      <td>Delhi</td>\n",
       "      <td>Mumbai</td>\n",
       "      <td>2 Stop(s)</td>\n",
       "      <td>9,000</td>\n",
       "      <td>5</td>\n",
       "      <td>20</td>\n",
       "      <td>9</td>\n",
       "      <td>20</td>\n",
       "      <td>28</td>\n",
       "      <td>0</td>\n",
       "    </tr>\n",
       "    <tr>\n",
       "      <th>3</th>\n",
       "      <td>Air Asia</td>\n",
       "      <td>9</td>\n",
       "      <td>Delhi</td>\n",
       "      <td>Mumbai</td>\n",
       "      <td>2 Stop(s)</td>\n",
       "      <td>6,166</td>\n",
       "      <td>5</td>\n",
       "      <td>35</td>\n",
       "      <td>22</td>\n",
       "      <td>10</td>\n",
       "      <td>16</td>\n",
       "      <td>35</td>\n",
       "    </tr>\n",
       "    <tr>\n",
       "      <th>4</th>\n",
       "      <td>AirIndia</td>\n",
       "      <td>9</td>\n",
       "      <td>Delhi</td>\n",
       "      <td>Mumbai</td>\n",
       "      <td>1 Stop</td>\n",
       "      <td>7,468</td>\n",
       "      <td>5</td>\n",
       "      <td>45</td>\n",
       "      <td>9</td>\n",
       "      <td>40</td>\n",
       "      <td>3</td>\n",
       "      <td>55</td>\n",
       "    </tr>\n",
       "    <tr>\n",
       "      <th>...</th>\n",
       "      <td>...</td>\n",
       "      <td>...</td>\n",
       "      <td>...</td>\n",
       "      <td>...</td>\n",
       "      <td>...</td>\n",
       "      <td>...</td>\n",
       "      <td>...</td>\n",
       "      <td>...</td>\n",
       "      <td>...</td>\n",
       "      <td>...</td>\n",
       "      <td>...</td>\n",
       "      <td>...</td>\n",
       "    </tr>\n",
       "    <tr>\n",
       "      <th>5834</th>\n",
       "      <td>Vistara</td>\n",
       "      <td>24</td>\n",
       "      <td>Mumbai</td>\n",
       "      <td>Ahmedabad</td>\n",
       "      <td>1 Stop</td>\n",
       "      <td>10,668</td>\n",
       "      <td>11</td>\n",
       "      <td>55</td>\n",
       "      <td>8</td>\n",
       "      <td>5</td>\n",
       "      <td>20</td>\n",
       "      <td>10</td>\n",
       "    </tr>\n",
       "    <tr>\n",
       "      <th>5835</th>\n",
       "      <td>Vistara</td>\n",
       "      <td>24</td>\n",
       "      <td>Mumbai</td>\n",
       "      <td>Ahmedabad</td>\n",
       "      <td>1 Stop</td>\n",
       "      <td>10,668</td>\n",
       "      <td>11</td>\n",
       "      <td>55</td>\n",
       "      <td>10</td>\n",
       "      <td>20</td>\n",
       "      <td>22</td>\n",
       "      <td>25</td>\n",
       "    </tr>\n",
       "    <tr>\n",
       "      <th>5836</th>\n",
       "      <td>Go First</td>\n",
       "      <td>24</td>\n",
       "      <td>Mumbai</td>\n",
       "      <td>Ahmedabad</td>\n",
       "      <td>1 Stop</td>\n",
       "      <td>9,461</td>\n",
       "      <td>12</td>\n",
       "      <td>40</td>\n",
       "      <td>17</td>\n",
       "      <td>10</td>\n",
       "      <td>4</td>\n",
       "      <td>30</td>\n",
       "    </tr>\n",
       "    <tr>\n",
       "      <th>5837</th>\n",
       "      <td>Go First</td>\n",
       "      <td>24</td>\n",
       "      <td>Mumbai</td>\n",
       "      <td>Ahmedabad</td>\n",
       "      <td>1 Stop</td>\n",
       "      <td>9,461</td>\n",
       "      <td>12</td>\n",
       "      <td>40</td>\n",
       "      <td>22</td>\n",
       "      <td>5</td>\n",
       "      <td>9</td>\n",
       "      <td>25</td>\n",
       "    </tr>\n",
       "    <tr>\n",
       "      <th>5838</th>\n",
       "      <td>Go First</td>\n",
       "      <td>24</td>\n",
       "      <td>Mumbai</td>\n",
       "      <td>Ahmedabad</td>\n",
       "      <td>1 Stop</td>\n",
       "      <td>10,537</td>\n",
       "      <td>13</td>\n",
       "      <td>25</td>\n",
       "      <td>21</td>\n",
       "      <td>45</td>\n",
       "      <td>8</td>\n",
       "      <td>20</td>\n",
       "    </tr>\n",
       "  </tbody>\n",
       "</table>\n",
       "<p>5837 rows × 12 columns</p>\n",
       "</div>"
      ],
      "text/plain": [
       "       Airline  Date  Source Destination      Stops   Price  Dep_hr  Dep_min  \\\n",
       "0     AirIndia     9   Delhi      Mumbai     1 Stop  17,990       4       55   \n",
       "1     AirIndia     9   Delhi      Mumbai  2 Stop(s)   9,000       5       20   \n",
       "2     AirIndia     9   Delhi      Mumbai  2 Stop(s)   9,000       5       20   \n",
       "3     Air Asia     9   Delhi      Mumbai  2 Stop(s)   6,166       5       35   \n",
       "4     AirIndia     9   Delhi      Mumbai     1 Stop   7,468       5       45   \n",
       "...        ...   ...     ...         ...        ...     ...     ...      ...   \n",
       "5834   Vistara    24  Mumbai   Ahmedabad     1 Stop  10,668      11       55   \n",
       "5835   Vistara    24  Mumbai   Ahmedabad     1 Stop  10,668      11       55   \n",
       "5836  Go First    24  Mumbai   Ahmedabad     1 Stop   9,461      12       40   \n",
       "5837  Go First    24  Mumbai   Ahmedabad     1 Stop   9,461      12       40   \n",
       "5838  Go First    24  Mumbai   Ahmedabad     1 Stop  10,537      13       25   \n",
       "\n",
       "      Arv_hr  Arv_min  Dur_hr  Dur_min  \n",
       "0         14       25       9       30  \n",
       "1         23        5      17       45  \n",
       "2          9       20      28        0  \n",
       "3         22       10      16       35  \n",
       "4          9       40       3       55  \n",
       "...      ...      ...     ...      ...  \n",
       "5834       8        5      20       10  \n",
       "5835      10       20      22       25  \n",
       "5836      17       10       4       30  \n",
       "5837      22        5       9       25  \n",
       "5838      21       45       8       20  \n",
       "\n",
       "[5837 rows x 12 columns]"
      ]
     },
     "execution_count": 35,
     "metadata": {},
     "output_type": "execute_result"
    }
   ],
   "source": [
    "# dropping the base column.\n",
    "\n",
    "df.drop(['Duration'], axis=1, inplace=True)\n",
    "df"
   ]
  },
  {
   "cell_type": "markdown",
   "metadata": {},
   "source": [
    "We can see that the required data have been extracted and saved in different columns and the base column has been dropped."
   ]
  },
  {
   "cell_type": "markdown",
   "metadata": {},
   "source": [
    "### Feature Stops"
   ]
  },
  {
   "cell_type": "code",
   "execution_count": 36,
   "metadata": {},
   "outputs": [
    {
     "data": {
      "text/plain": [
       "array(['1 Stop', '2 Stop(s)', 'Non Stop', '3 Stop(s)', '4 Stop(s)',\n",
       "       ' 1 Stop', 'Non-Stop', ' 4 Stop', ' 3 Stop', ' 2 Stop'],\n",
       "      dtype=object)"
      ]
     },
     "execution_count": 36,
     "metadata": {},
     "output_type": "execute_result"
    }
   ],
   "source": [
    "df['Stops'].unique()"
   ]
  },
  {
   "cell_type": "markdown",
   "metadata": {},
   "source": [
    "Here the data type is object as the data contains unwanted strings in it. lets clean the data."
   ]
  },
  {
   "cell_type": "code",
   "execution_count": 37,
   "metadata": {},
   "outputs": [],
   "source": [
    "df['Stops']= df['Stops'].str.replace(r\" Stop\\(.*\\)\",\"\")\n",
    "df['Stops']= df['Stops'].str.replace('Stop', '')"
   ]
  },
  {
   "cell_type": "code",
   "execution_count": 38,
   "metadata": {},
   "outputs": [],
   "source": [
    "# Replacing 'Non-stop' flights with 0.\n",
    "\n",
    "df['Stops']= df['Stops'].str.replace('Non-', '0')\n",
    "df['Stops']= df['Stops'].str.replace('Non ', '0')\n",
    "df['Stops']= df['Stops'].str.replace(' ', '')"
   ]
  },
  {
   "cell_type": "code",
   "execution_count": 39,
   "metadata": {},
   "outputs": [
    {
     "data": {
      "text/plain": [
       "array(['1', '2', '0', '3', '4'], dtype=object)"
      ]
     },
     "execution_count": 39,
     "metadata": {},
     "output_type": "execute_result"
    }
   ],
   "source": [
    "df['Stops'].unique()"
   ]
  },
  {
   "cell_type": "markdown",
   "metadata": {},
   "source": [
    "We can see that the data has been cleaned but it still belongs to object datatype. lets correct this."
   ]
  },
  {
   "cell_type": "code",
   "execution_count": 40,
   "metadata": {},
   "outputs": [],
   "source": [
    "df['Stops']= df['Stops'].astype(int)"
   ]
  },
  {
   "cell_type": "markdown",
   "metadata": {},
   "source": [
    "The column has been treated, lets proceed."
   ]
  },
  {
   "cell_type": "markdown",
   "metadata": {},
   "source": [
    "### Target column"
   ]
  },
  {
   "cell_type": "code",
   "execution_count": 41,
   "metadata": {},
   "outputs": [
    {
     "data": {
      "text/plain": [
       "0       17,990\n",
       "1        9,000\n",
       "2        9,000\n",
       "3        6,166\n",
       "4        7,468\n",
       "         ...  \n",
       "5834    10,668\n",
       "5835    10,668\n",
       "5836     9,461\n",
       "5837     9,461\n",
       "5838    10,537\n",
       "Name: Price, Length: 5837, dtype: object"
      ]
     },
     "execution_count": 41,
     "metadata": {},
     "output_type": "execute_result"
    }
   ],
   "source": [
    "df['Price']"
   ]
  },
  {
   "cell_type": "markdown",
   "metadata": {},
   "source": [
    "The target column also belongs to object datatype, this is because of the presence of some unwanted characters in the values. Lets clean this."
   ]
  },
  {
   "cell_type": "code",
   "execution_count": 42,
   "metadata": {},
   "outputs": [],
   "source": [
    "df['Price']= df['Price'].str.replace(',', '')"
   ]
  },
  {
   "cell_type": "code",
   "execution_count": 43,
   "metadata": {},
   "outputs": [],
   "source": [
    "# Converting datatype to integet.\n",
    "\n",
    "df['Price']= df['Price'].astype(int)"
   ]
  },
  {
   "cell_type": "markdown",
   "metadata": {},
   "source": [
    "The target column has been cleaned."
   ]
  },
  {
   "cell_type": "markdown",
   "metadata": {},
   "source": [
    "### Data Preprocessing"
   ]
  },
  {
   "cell_type": "code",
   "execution_count": 44,
   "metadata": {},
   "outputs": [
    {
     "name": "stdout",
     "output_type": "stream",
     "text": [
      "<class 'pandas.core.frame.DataFrame'>\n",
      "Int64Index: 5837 entries, 0 to 5838\n",
      "Data columns (total 12 columns):\n",
      " #   Column       Non-Null Count  Dtype \n",
      "---  ------       --------------  ----- \n",
      " 0   Airline      5837 non-null   object\n",
      " 1   Date         5837 non-null   int32 \n",
      " 2   Source       5837 non-null   object\n",
      " 3   Destination  5837 non-null   object\n",
      " 4   Stops        5837 non-null   int32 \n",
      " 5   Price        5837 non-null   int32 \n",
      " 6   Dep_hr       5837 non-null   int64 \n",
      " 7   Dep_min      5837 non-null   int64 \n",
      " 8   Arv_hr       5837 non-null   int64 \n",
      " 9   Arv_min      5837 non-null   int64 \n",
      " 10  Dur_hr       5837 non-null   int32 \n",
      " 11  Dur_min      5837 non-null   int32 \n",
      "dtypes: int32(5), int64(4), object(3)\n",
      "memory usage: 478.8+ KB\n"
     ]
    }
   ],
   "source": [
    "df.info()"
   ]
  },
  {
   "cell_type": "markdown",
   "metadata": {},
   "source": [
    "We can see that the dataset has been cleaned and the numeric data are converted to integer datatype. We can proceed now."
   ]
  },
  {
   "cell_type": "code",
   "execution_count": 45,
   "metadata": {},
   "outputs": [
    {
     "data": {
      "text/html": [
       "<div>\n",
       "<style scoped>\n",
       "    .dataframe tbody tr th:only-of-type {\n",
       "        vertical-align: middle;\n",
       "    }\n",
       "\n",
       "    .dataframe tbody tr th {\n",
       "        vertical-align: top;\n",
       "    }\n",
       "\n",
       "    .dataframe thead th {\n",
       "        text-align: right;\n",
       "    }\n",
       "</style>\n",
       "<table border=\"1\" class=\"dataframe\">\n",
       "  <thead>\n",
       "    <tr style=\"text-align: right;\">\n",
       "      <th></th>\n",
       "      <th>Date</th>\n",
       "      <th>Stops</th>\n",
       "      <th>Price</th>\n",
       "      <th>Dep_hr</th>\n",
       "      <th>Dep_min</th>\n",
       "      <th>Arv_hr</th>\n",
       "      <th>Arv_min</th>\n",
       "      <th>Dur_hr</th>\n",
       "      <th>Dur_min</th>\n",
       "    </tr>\n",
       "  </thead>\n",
       "  <tbody>\n",
       "    <tr>\n",
       "      <th>count</th>\n",
       "      <td>5837.000000</td>\n",
       "      <td>5837.000000</td>\n",
       "      <td>5837.000000</td>\n",
       "      <td>5837.000000</td>\n",
       "      <td>5837.00000</td>\n",
       "      <td>5837.000000</td>\n",
       "      <td>5837.000000</td>\n",
       "      <td>5837.000000</td>\n",
       "      <td>5837.000000</td>\n",
       "    </tr>\n",
       "    <tr>\n",
       "      <th>mean</th>\n",
       "      <td>16.341614</td>\n",
       "      <td>1.007195</td>\n",
       "      <td>9843.032551</td>\n",
       "      <td>8.078294</td>\n",
       "      <td>24.07658</td>\n",
       "      <td>14.291074</td>\n",
       "      <td>28.192565</td>\n",
       "      <td>10.287819</td>\n",
       "      <td>27.778825</td>\n",
       "    </tr>\n",
       "    <tr>\n",
       "      <th>std</th>\n",
       "      <td>4.765020</td>\n",
       "      <td>0.661237</td>\n",
       "      <td>4165.970906</td>\n",
       "      <td>3.670530</td>\n",
       "      <td>18.02430</td>\n",
       "      <td>5.309226</td>\n",
       "      <td>17.595483</td>\n",
       "      <td>7.490827</td>\n",
       "      <td>17.350544</td>\n",
       "    </tr>\n",
       "    <tr>\n",
       "      <th>min</th>\n",
       "      <td>9.000000</td>\n",
       "      <td>0.000000</td>\n",
       "      <td>3497.000000</td>\n",
       "      <td>0.000000</td>\n",
       "      <td>0.00000</td>\n",
       "      <td>0.000000</td>\n",
       "      <td>0.000000</td>\n",
       "      <td>0.000000</td>\n",
       "      <td>0.000000</td>\n",
       "    </tr>\n",
       "    <tr>\n",
       "      <th>25%</th>\n",
       "      <td>12.000000</td>\n",
       "      <td>1.000000</td>\n",
       "      <td>7260.000000</td>\n",
       "      <td>6.000000</td>\n",
       "      <td>10.00000</td>\n",
       "      <td>10.000000</td>\n",
       "      <td>15.000000</td>\n",
       "      <td>5.000000</td>\n",
       "      <td>15.000000</td>\n",
       "    </tr>\n",
       "    <tr>\n",
       "      <th>50%</th>\n",
       "      <td>16.000000</td>\n",
       "      <td>1.000000</td>\n",
       "      <td>9201.000000</td>\n",
       "      <td>7.000000</td>\n",
       "      <td>20.00000</td>\n",
       "      <td>15.000000</td>\n",
       "      <td>30.000000</td>\n",
       "      <td>9.000000</td>\n",
       "      <td>30.000000</td>\n",
       "    </tr>\n",
       "    <tr>\n",
       "      <th>75%</th>\n",
       "      <td>20.000000</td>\n",
       "      <td>1.000000</td>\n",
       "      <td>11659.000000</td>\n",
       "      <td>9.000000</td>\n",
       "      <td>40.00000</td>\n",
       "      <td>19.000000</td>\n",
       "      <td>45.000000</td>\n",
       "      <td>14.000000</td>\n",
       "      <td>45.000000</td>\n",
       "    </tr>\n",
       "    <tr>\n",
       "      <th>max</th>\n",
       "      <td>25.000000</td>\n",
       "      <td>4.000000</td>\n",
       "      <td>58896.000000</td>\n",
       "      <td>23.000000</td>\n",
       "      <td>55.00000</td>\n",
       "      <td>23.000000</td>\n",
       "      <td>55.000000</td>\n",
       "      <td>42.000000</td>\n",
       "      <td>55.000000</td>\n",
       "    </tr>\n",
       "  </tbody>\n",
       "</table>\n",
       "</div>"
      ],
      "text/plain": [
       "              Date        Stops         Price       Dep_hr     Dep_min  \\\n",
       "count  5837.000000  5837.000000   5837.000000  5837.000000  5837.00000   \n",
       "mean     16.341614     1.007195   9843.032551     8.078294    24.07658   \n",
       "std       4.765020     0.661237   4165.970906     3.670530    18.02430   \n",
       "min       9.000000     0.000000   3497.000000     0.000000     0.00000   \n",
       "25%      12.000000     1.000000   7260.000000     6.000000    10.00000   \n",
       "50%      16.000000     1.000000   9201.000000     7.000000    20.00000   \n",
       "75%      20.000000     1.000000  11659.000000     9.000000    40.00000   \n",
       "max      25.000000     4.000000  58896.000000    23.000000    55.00000   \n",
       "\n",
       "            Arv_hr      Arv_min       Dur_hr      Dur_min  \n",
       "count  5837.000000  5837.000000  5837.000000  5837.000000  \n",
       "mean     14.291074    28.192565    10.287819    27.778825  \n",
       "std       5.309226    17.595483     7.490827    17.350544  \n",
       "min       0.000000     0.000000     0.000000     0.000000  \n",
       "25%      10.000000    15.000000     5.000000    15.000000  \n",
       "50%      15.000000    30.000000     9.000000    30.000000  \n",
       "75%      19.000000    45.000000    14.000000    45.000000  \n",
       "max      23.000000    55.000000    42.000000    55.000000  "
      ]
     },
     "execution_count": 45,
     "metadata": {},
     "output_type": "execute_result"
    }
   ],
   "source": [
    "df.describe()"
   ]
  },
  {
   "cell_type": "markdown",
   "metadata": {},
   "source": [
    "Here we can check the description of all the numeric columns. Most of the data present here are of date and time, except the target column and stops. the date and time data belongs to a particular range and the values of mean and median in the features are very close to each other, which means that the data sholud normally distributed. Also we can see that the columns have very less difference between the mean and the maximum value, which means that the data is very less prone to outliers."
   ]
  },
  {
   "cell_type": "markdown",
   "metadata": {},
   "source": [
    "### Visualization"
   ]
  },
  {
   "cell_type": "code",
   "execution_count": 46,
   "metadata": {},
   "outputs": [
    {
     "data": {
      "text/plain": [
       "<function matplotlib.pyplot.show(*args, **kw)>"
      ]
     },
     "execution_count": 46,
     "metadata": {},
     "output_type": "execute_result"
    },
    {
     "data": {
      "image/png": "[encoded data removed]",
      "text/plain": [
       "<Figure size 1440x720 with 9 Axes>"
      ]
     },
     "metadata": {},
     "output_type": "display_data"
    }
   ],
   "source": [
    "sns.set(style='darkgrid')\n",
    "df.plot(kind='density', subplots= True, layout=(3,3),sharex=False, legend=True, figsize=[20,10])\n",
    "plt.show"
   ]
  },
  {
   "cell_type": "markdown",
   "metadata": {},
   "source": [
    "Here, we can check the distribution of the numeric columns. lets check closely."
   ]
  },
  {
   "cell_type": "code",
   "execution_count": 47,
   "metadata": {},
   "outputs": [
    {
     "data": {
      "image/png": "[encoded data removed]",
      "text/plain": [
       "<Figure size 720x288 with 1 Axes>"
      ]
     },
     "metadata": {},
     "output_type": "display_data"
    }
   ],
   "source": [
    "plt.figure(figsize=[10,4])\n",
    "sns.countplot(df['Airline'])\n",
    "plt.show()"
   ]
  },
  {
   "cell_type": "markdown",
   "metadata": {},
   "source": [
    "We can see that the data are distributed nicely among all the airlines, with majority of the fligts being of AirIndia."
   ]
  },
  {
   "cell_type": "code",
   "execution_count": 48,
   "metadata": {},
   "outputs": [
    {
     "data": {
      "image/png": "[encoded data removed]",
      "text/plain": [
       "<Figure size 720x288 with 1 Axes>"
      ]
     },
     "metadata": {},
     "output_type": "display_data"
    }
   ],
   "source": [
    "plt.figure(figsize=[10,4])\n",
    "sns.countplot(df['Date'])\n",
    "plt.show()"
   ]
  },
  {
   "cell_type": "markdown",
   "metadata": {},
   "source": [
    "Here we can see that the feature has little variance in the distribution of the data."
   ]
  },
  {
   "cell_type": "code",
   "execution_count": 49,
   "metadata": {},
   "outputs": [
    {
     "data": {
      "image/png": "[encoded data removed]",
      "text/plain": [
       "<Figure size 576x288 with 1 Axes>"
      ]
     },
     "metadata": {},
     "output_type": "display_data"
    }
   ],
   "source": [
    "plt.figure(figsize=[8,4])\n",
    "sns.countplot(df['Stops'])\n",
    "plt.show()"
   ]
  },
  {
   "cell_type": "markdown",
   "metadata": {},
   "source": [
    "Here we can see that the majority of the flights are one stop flights, which is followed by non-stop flights. Flights with 4 stops are very less."
   ]
  },
  {
   "cell_type": "code",
   "execution_count": 50,
   "metadata": {},
   "outputs": [
    {
     "data": {
      "image/png": "[encoded data removed]",
      "text/plain": [
       "<Figure size 720x288 with 1 Axes>"
      ]
     },
     "metadata": {},
     "output_type": "display_data"
    }
   ],
   "source": [
    "plt.figure(figsize=[10,4])\n",
    "sns.countplot(df['Source'])\n",
    "plt.show()"
   ]
  },
  {
   "cell_type": "markdown",
   "metadata": {},
   "source": [
    "We can see that the data contains most of the flighs that source from Delhi, which is followed by Bangalore and mumbai."
   ]
  },
  {
   "cell_type": "code",
   "execution_count": 51,
   "metadata": {},
   "outputs": [
    {
     "data": {
      "image/png": "[encoded data removed]",
      "text/plain": [
       "<Figure size 936x288 with 1 Axes>"
      ]
     },
     "metadata": {},
     "output_type": "display_data"
    }
   ],
   "source": [
    "plt.figure(figsize=[13,4])\n",
    "sns.countplot(df['Destination'])\n",
    "plt.show()"
   ]
  },
  {
   "cell_type": "markdown",
   "metadata": {},
   "source": [
    "Here we see that the flights are bound for different cities and the data is distributed among them in variance."
   ]
  },
  {
   "cell_type": "code",
   "execution_count": 52,
   "metadata": {},
   "outputs": [
    {
     "data": {
      "image/png": "[encoded data removed]",
      "text/plain": [
       "<Figure size 936x288 with 1 Axes>"
      ]
     },
     "metadata": {},
     "output_type": "display_data"
    }
   ],
   "source": [
    "plt.figure(figsize=[13,4])\n",
    "plt.hist(df['Dep_hr'], bins=25)\n",
    "plt.show()"
   ]
  },
  {
   "cell_type": "markdown",
   "metadata": {},
   "source": [
    "We can see that the majority of flights depart between 5 to 10 AM. And some skewness can be seen in the data, right tailes skewed."
   ]
  },
  {
   "cell_type": "code",
   "execution_count": 53,
   "metadata": {},
   "outputs": [
    {
     "data": {
      "image/png": "[encoded data removed]",
      "text/plain": [
       "<Figure size 936x288 with 1 Axes>"
      ]
     },
     "metadata": {},
     "output_type": "display_data"
    }
   ],
   "source": [
    "plt.figure(figsize=[13,4])\n",
    "plt.hist(df['Arv_hr'], bins=25)\n",
    "plt.show()"
   ]
  },
  {
   "cell_type": "markdown",
   "metadata": {},
   "source": [
    "Here we can see that there is an near equal distribution of flights arriaving between 5 AM to 12 AM, A little variance can also be seen."
   ]
  },
  {
   "cell_type": "code",
   "execution_count": 54,
   "metadata": {},
   "outputs": [
    {
     "data": {
      "image/png": "[encoded data removed]",
      "text/plain": [
       "<Figure size 936x288 with 1 Axes>"
      ]
     },
     "metadata": {},
     "output_type": "display_data"
    }
   ],
   "source": [
    "plt.figure(figsize=[13,4])\n",
    "plt.hist(df['Dur_hr'], bins=25)\n",
    "plt.show()"
   ]
  },
  {
   "cell_type": "markdown",
   "metadata": {},
   "source": [
    "Here we can see that most of the flight durations are between 1 to 10 hours and hence some skewness can be seen here, right tailed skewed."
   ]
  },
  {
   "cell_type": "markdown",
   "metadata": {},
   "source": [
    "### Encoding categorical data"
   ]
  },
  {
   "cell_type": "code",
   "execution_count": 55,
   "metadata": {},
   "outputs": [
    {
     "data": {
      "text/plain": [
       "Airline        object\n",
       "Date            int32\n",
       "Source         object\n",
       "Destination    object\n",
       "Stops           int32\n",
       "Price           int32\n",
       "Dep_hr          int64\n",
       "Dep_min         int64\n",
       "Arv_hr          int64\n",
       "Arv_min         int64\n",
       "Dur_hr          int32\n",
       "Dur_min         int32\n",
       "dtype: object"
      ]
     },
     "execution_count": 55,
     "metadata": {},
     "output_type": "execute_result"
    }
   ],
   "source": [
    "df.dtypes"
   ]
  },
  {
   "cell_type": "markdown",
   "metadata": {},
   "source": [
    "Three of the features belong to object data type, we need to encode them into numeric in order to proceed."
   ]
  },
  {
   "cell_type": "code",
   "execution_count": 44,
   "metadata": {},
   "outputs": [],
   "source": [
    "# Creating a copy of non-encoded dataframe.\n",
    "\n",
    "df1= df.copy()"
   ]
  },
  {
   "cell_type": "code",
   "execution_count": 45,
   "metadata": {},
   "outputs": [],
   "source": [
    "# Encoding\n",
    "\n",
    "from sklearn.preprocessing import OrdinalEncoder\n",
    "\n",
    "enc= OrdinalEncoder()\n",
    "for i in df.columns:\n",
    "    if df[i].dtypes== 'O':\n",
    "        df[i]= enc.fit_transform(df[i].values.reshape(-1,1))"
   ]
  },
  {
   "cell_type": "code",
   "execution_count": 58,
   "metadata": {},
   "outputs": [
    {
     "name": "stdout",
     "output_type": "stream",
     "text": [
      "<class 'pandas.core.frame.DataFrame'>\n",
      "Int64Index: 5837 entries, 0 to 5838\n",
      "Data columns (total 12 columns):\n",
      " #   Column       Non-Null Count  Dtype\n",
      "---  ------       --------------  -----\n",
      " 0   Airline      5837 non-null   int32\n",
      " 1   Date         5837 non-null   int32\n",
      " 2   Source       5837 non-null   int32\n",
      " 3   Destination  5837 non-null   int32\n",
      " 4   Stops        5837 non-null   int32\n",
      " 5   Price        5837 non-null   int32\n",
      " 6   Dep_hr       5837 non-null   int64\n",
      " 7   Dep_min      5837 non-null   int64\n",
      " 8   Arv_hr       5837 non-null   int64\n",
      " 9   Arv_min      5837 non-null   int64\n",
      " 10  Dur_hr       5837 non-null   int32\n",
      " 11  Dur_min      5837 non-null   int32\n",
      "dtypes: int32(8), int64(4)\n",
      "memory usage: 570.4 KB\n"
     ]
    }
   ],
   "source": [
    "df.info()"
   ]
  },
  {
   "cell_type": "markdown",
   "metadata": {},
   "source": [
    "Our dataset has been encoded, we can proceed now."
   ]
  },
  {
   "cell_type": "markdown",
   "metadata": {},
   "source": [
    "### Checking Correlation and finding answers to the queries."
   ]
  },
  {
   "cell_type": "code",
   "execution_count": 59,
   "metadata": {},
   "outputs": [
    {
     "data": {
      "text/html": [
       "<div>\n",
       "<style scoped>\n",
       "    .dataframe tbody tr th:only-of-type {\n",
       "        vertical-align: middle;\n",
       "    }\n",
       "\n",
       "    .dataframe tbody tr th {\n",
       "        vertical-align: top;\n",
       "    }\n",
       "\n",
       "    .dataframe thead th {\n",
       "        text-align: right;\n",
       "    }\n",
       "</style>\n",
       "<table border=\"1\" class=\"dataframe\">\n",
       "  <thead>\n",
       "    <tr style=\"text-align: right;\">\n",
       "      <th></th>\n",
       "      <th>Airline</th>\n",
       "      <th>Date</th>\n",
       "      <th>Source</th>\n",
       "      <th>Destination</th>\n",
       "      <th>Stops</th>\n",
       "      <th>Price</th>\n",
       "      <th>Dep_hr</th>\n",
       "      <th>Dep_min</th>\n",
       "      <th>Arv_hr</th>\n",
       "      <th>Arv_min</th>\n",
       "      <th>Dur_hr</th>\n",
       "      <th>Dur_min</th>\n",
       "    </tr>\n",
       "  </thead>\n",
       "  <tbody>\n",
       "    <tr>\n",
       "      <th>Airline</th>\n",
       "      <td>1.000000</td>\n",
       "      <td>-0.032599</td>\n",
       "      <td>-0.029082</td>\n",
       "      <td>-0.010139</td>\n",
       "      <td>-0.298132</td>\n",
       "      <td>-0.040959</td>\n",
       "      <td>0.061299</td>\n",
       "      <td>0.047585</td>\n",
       "      <td>-0.026852</td>\n",
       "      <td>0.135219</td>\n",
       "      <td>-0.055401</td>\n",
       "      <td>0.000517</td>\n",
       "    </tr>\n",
       "    <tr>\n",
       "      <th>Date</th>\n",
       "      <td>-0.032599</td>\n",
       "      <td>1.000000</td>\n",
       "      <td>-0.068650</td>\n",
       "      <td>-0.102139</td>\n",
       "      <td>-0.038740</td>\n",
       "      <td>-0.170830</td>\n",
       "      <td>-0.010709</td>\n",
       "      <td>-0.009494</td>\n",
       "      <td>-0.030502</td>\n",
       "      <td>0.011555</td>\n",
       "      <td>-0.044817</td>\n",
       "      <td>0.026257</td>\n",
       "    </tr>\n",
       "    <tr>\n",
       "      <th>Source</th>\n",
       "      <td>-0.029082</td>\n",
       "      <td>-0.068650</td>\n",
       "      <td>1.000000</td>\n",
       "      <td>-0.259629</td>\n",
       "      <td>0.086889</td>\n",
       "      <td>0.033322</td>\n",
       "      <td>0.190214</td>\n",
       "      <td>0.006543</td>\n",
       "      <td>0.110516</td>\n",
       "      <td>0.044966</td>\n",
       "      <td>0.096972</td>\n",
       "      <td>0.101735</td>\n",
       "    </tr>\n",
       "    <tr>\n",
       "      <th>Destination</th>\n",
       "      <td>-0.010139</td>\n",
       "      <td>-0.102139</td>\n",
       "      <td>-0.259629</td>\n",
       "      <td>1.000000</td>\n",
       "      <td>-0.059509</td>\n",
       "      <td>0.053615</td>\n",
       "      <td>0.083605</td>\n",
       "      <td>-0.073043</td>\n",
       "      <td>0.017486</td>\n",
       "      <td>-0.131269</td>\n",
       "      <td>-0.084564</td>\n",
       "      <td>-0.057612</td>\n",
       "    </tr>\n",
       "    <tr>\n",
       "      <th>Stops</th>\n",
       "      <td>-0.298132</td>\n",
       "      <td>-0.038740</td>\n",
       "      <td>0.086889</td>\n",
       "      <td>-0.059509</td>\n",
       "      <td>1.000000</td>\n",
       "      <td>0.436144</td>\n",
       "      <td>-0.047110</td>\n",
       "      <td>0.067986</td>\n",
       "      <td>0.313584</td>\n",
       "      <td>0.006052</td>\n",
       "      <td>0.578128</td>\n",
       "      <td>0.007591</td>\n",
       "    </tr>\n",
       "    <tr>\n",
       "      <th>Price</th>\n",
       "      <td>-0.040959</td>\n",
       "      <td>-0.170830</td>\n",
       "      <td>0.033322</td>\n",
       "      <td>0.053615</td>\n",
       "      <td>0.436144</td>\n",
       "      <td>1.000000</td>\n",
       "      <td>-0.037564</td>\n",
       "      <td>-0.024861</td>\n",
       "      <td>0.213427</td>\n",
       "      <td>0.002661</td>\n",
       "      <td>0.382863</td>\n",
       "      <td>-0.038945</td>\n",
       "    </tr>\n",
       "    <tr>\n",
       "      <th>Dep_hr</th>\n",
       "      <td>0.061299</td>\n",
       "      <td>-0.010709</td>\n",
       "      <td>0.190214</td>\n",
       "      <td>0.083605</td>\n",
       "      <td>-0.047110</td>\n",
       "      <td>-0.037564</td>\n",
       "      <td>1.000000</td>\n",
       "      <td>-0.042963</td>\n",
       "      <td>0.109584</td>\n",
       "      <td>0.016943</td>\n",
       "      <td>0.013794</td>\n",
       "      <td>0.053381</td>\n",
       "    </tr>\n",
       "    <tr>\n",
       "      <th>Dep_min</th>\n",
       "      <td>0.047585</td>\n",
       "      <td>-0.009494</td>\n",
       "      <td>0.006543</td>\n",
       "      <td>-0.073043</td>\n",
       "      <td>0.067986</td>\n",
       "      <td>-0.024861</td>\n",
       "      <td>-0.042963</td>\n",
       "      <td>1.000000</td>\n",
       "      <td>-0.012876</td>\n",
       "      <td>0.039391</td>\n",
       "      <td>0.007198</td>\n",
       "      <td>-0.017381</td>\n",
       "    </tr>\n",
       "    <tr>\n",
       "      <th>Arv_hr</th>\n",
       "      <td>-0.026852</td>\n",
       "      <td>-0.030502</td>\n",
       "      <td>0.110516</td>\n",
       "      <td>0.017486</td>\n",
       "      <td>0.313584</td>\n",
       "      <td>0.213427</td>\n",
       "      <td>0.109584</td>\n",
       "      <td>-0.012876</td>\n",
       "      <td>1.000000</td>\n",
       "      <td>0.018215</td>\n",
       "      <td>0.087471</td>\n",
       "      <td>0.092780</td>\n",
       "    </tr>\n",
       "    <tr>\n",
       "      <th>Arv_min</th>\n",
       "      <td>0.135219</td>\n",
       "      <td>0.011555</td>\n",
       "      <td>0.044966</td>\n",
       "      <td>-0.131269</td>\n",
       "      <td>0.006052</td>\n",
       "      <td>0.002661</td>\n",
       "      <td>0.016943</td>\n",
       "      <td>0.039391</td>\n",
       "      <td>0.018215</td>\n",
       "      <td>1.000000</td>\n",
       "      <td>0.065244</td>\n",
       "      <td>0.064976</td>\n",
       "    </tr>\n",
       "    <tr>\n",
       "      <th>Dur_hr</th>\n",
       "      <td>-0.055401</td>\n",
       "      <td>-0.044817</td>\n",
       "      <td>0.096972</td>\n",
       "      <td>-0.084564</td>\n",
       "      <td>0.578128</td>\n",
       "      <td>0.382863</td>\n",
       "      <td>0.013794</td>\n",
       "      <td>0.007198</td>\n",
       "      <td>0.087471</td>\n",
       "      <td>0.065244</td>\n",
       "      <td>1.000000</td>\n",
       "      <td>0.051366</td>\n",
       "    </tr>\n",
       "    <tr>\n",
       "      <th>Dur_min</th>\n",
       "      <td>0.000517</td>\n",
       "      <td>0.026257</td>\n",
       "      <td>0.101735</td>\n",
       "      <td>-0.057612</td>\n",
       "      <td>0.007591</td>\n",
       "      <td>-0.038945</td>\n",
       "      <td>0.053381</td>\n",
       "      <td>-0.017381</td>\n",
       "      <td>0.092780</td>\n",
       "      <td>0.064976</td>\n",
       "      <td>0.051366</td>\n",
       "      <td>1.000000</td>\n",
       "    </tr>\n",
       "  </tbody>\n",
       "</table>\n",
       "</div>"
      ],
      "text/plain": [
       "              Airline      Date    Source  Destination     Stops     Price  \\\n",
       "Airline      1.000000 -0.032599 -0.029082    -0.010139 -0.298132 -0.040959   \n",
       "Date        -0.032599  1.000000 -0.068650    -0.102139 -0.038740 -0.170830   \n",
       "Source      -0.029082 -0.068650  1.000000    -0.259629  0.086889  0.033322   \n",
       "Destination -0.010139 -0.102139 -0.259629     1.000000 -0.059509  0.053615   \n",
       "Stops       -0.298132 -0.038740  0.086889    -0.059509  1.000000  0.436144   \n",
       "Price       -0.040959 -0.170830  0.033322     0.053615  0.436144  1.000000   \n",
       "Dep_hr       0.061299 -0.010709  0.190214     0.083605 -0.047110 -0.037564   \n",
       "Dep_min      0.047585 -0.009494  0.006543    -0.073043  0.067986 -0.024861   \n",
       "Arv_hr      -0.026852 -0.030502  0.110516     0.017486  0.313584  0.213427   \n",
       "Arv_min      0.135219  0.011555  0.044966    -0.131269  0.006052  0.002661   \n",
       "Dur_hr      -0.055401 -0.044817  0.096972    -0.084564  0.578128  0.382863   \n",
       "Dur_min      0.000517  0.026257  0.101735    -0.057612  0.007591 -0.038945   \n",
       "\n",
       "               Dep_hr   Dep_min    Arv_hr   Arv_min    Dur_hr   Dur_min  \n",
       "Airline      0.061299  0.047585 -0.026852  0.135219 -0.055401  0.000517  \n",
       "Date        -0.010709 -0.009494 -0.030502  0.011555 -0.044817  0.026257  \n",
       "Source       0.190214  0.006543  0.110516  0.044966  0.096972  0.101735  \n",
       "Destination  0.083605 -0.073043  0.017486 -0.131269 -0.084564 -0.057612  \n",
       "Stops       -0.047110  0.067986  0.313584  0.006052  0.578128  0.007591  \n",
       "Price       -0.037564 -0.024861  0.213427  0.002661  0.382863 -0.038945  \n",
       "Dep_hr       1.000000 -0.042963  0.109584  0.016943  0.013794  0.053381  \n",
       "Dep_min     -0.042963  1.000000 -0.012876  0.039391  0.007198 -0.017381  \n",
       "Arv_hr       0.109584 -0.012876  1.000000  0.018215  0.087471  0.092780  \n",
       "Arv_min      0.016943  0.039391  0.018215  1.000000  0.065244  0.064976  \n",
       "Dur_hr       0.013794  0.007198  0.087471  0.065244  1.000000  0.051366  \n",
       "Dur_min      0.053381 -0.017381  0.092780  0.064976  0.051366  1.000000  "
      ]
     },
     "execution_count": 59,
     "metadata": {},
     "output_type": "execute_result"
    }
   ],
   "source": [
    "cor= df.corr()\n",
    "cor"
   ]
  },
  {
   "cell_type": "markdown",
   "metadata": {},
   "source": [
    "Here we can see the correlation among all the columns in the dataset, lets visualize it for better understanding."
   ]
  },
  {
   "cell_type": "code",
   "execution_count": 81,
   "metadata": {},
   "outputs": [
    {
     "data": {
      "image/png": "[encoded data removed]",
      "text/plain": [
       "<Figure size 1080x504 with 2 Axes>"
      ]
     },
     "metadata": {},
     "output_type": "display_data"
    }
   ],
   "source": [
    "plt.figure(figsize=[15,7])\n",
    "sns.heatmap(cor, annot=True, linewidth=0.1);\n",
    "plt.title('Correlation matrix')\n",
    "plt.show()"
   ]
  },
  {
   "cell_type": "markdown",
   "metadata": {},
   "source": [
    "In the correlation matrix, we can see some positive as well as negative correlations. Among the independent columns, We can see that the no of stops and duration have a good positive correlation among them. Also we can be seen that the airlines have a very negative correlation with the no of stops. Now lets check the correlation of the target with the independent columns."
   ]
  },
  {
   "cell_type": "code",
   "execution_count": 82,
   "metadata": {},
   "outputs": [
    {
     "data": {
      "text/plain": [
       "Price          1.000000\n",
       "Stops          0.436144\n",
       "Dur_hr         0.382863\n",
       "Arv_hr         0.213427\n",
       "Destination    0.053615\n",
       "Source         0.033322\n",
       "Arv_min        0.002661\n",
       "Dep_min       -0.024861\n",
       "Dep_hr        -0.037564\n",
       "Dur_min       -0.038945\n",
       "Airline       -0.040959\n",
       "Date          -0.170830\n",
       "Name: Price, dtype: float64"
      ]
     },
     "execution_count": 82,
     "metadata": {},
     "output_type": "execute_result"
    }
   ],
   "source": [
    "cor['Price'].sort_values(ascending=False)"
   ]
  },
  {
   "cell_type": "markdown",
   "metadata": {},
   "source": [
    "We can check the correlation of our target with the independent columns. lets visualize it for understanding better."
   ]
  },
  {
   "cell_type": "code",
   "execution_count": 83,
   "metadata": {},
   "outputs": [
    {
     "data": {
      "image/png": "[encoded data removed]",
      "text/plain": [
       "<Figure size 1080x360 with 1 Axes>"
      ]
     },
     "metadata": {},
     "output_type": "display_data"
    }
   ],
   "source": [
    "plt.figure(figsize=(15,5))\n",
    "cor['Price'].sort_values(ascending=False).drop(['Price']).plot(kind='bar')\n",
    "plt.xlabel('Feature')\n",
    "plt.ylabel('Correlation with target')\n",
    "plt.title('Correlation')\n",
    "plt.show()"
   ]
  },
  {
   "cell_type": "markdown",
   "metadata": {},
   "source": [
    "The visualization shows that the No of stops has the highest correlation with the target also the Duration has a very good correlation with the target as well. The date of journey column is showing us the the most negative relation among all. The Arrival minute column can be see having a near zero correlation with the target. Now lets inspect these relations closely."
   ]
  },
  {
   "cell_type": "code",
   "execution_count": 85,
   "metadata": {},
   "outputs": [
    {
     "data": {
      "image/png": "[encoded data removed]",
      "text/plain": [
       "<Figure size 720x360 with 1 Axes>"
      ]
     },
     "metadata": {},
     "output_type": "display_data"
    }
   ],
   "source": [
    "sns.catplot(x='Stops',y='Price', data=df, kind='bar', aspect=2);"
   ]
  },
  {
   "cell_type": "markdown",
   "metadata": {},
   "source": [
    "Here we can see a good positive correlation between the columns. As the number of stops increases, the distance to travel also increases and hence there is an increase in price as the no of stops increases."
   ]
  },
  {
   "cell_type": "code",
   "execution_count": 87,
   "metadata": {},
   "outputs": [
    {
     "data": {
      "image/png": "[encoded data removed]",
      "text/plain": [
       "<Figure size 720x360 with 1 Axes>"
      ]
     },
     "metadata": {},
     "output_type": "display_data"
    }
   ],
   "source": [
    "sns.factorplot(x ='Dur_hr', y ='Price', data = df, aspect=2);"
   ]
  },
  {
   "cell_type": "markdown",
   "metadata": {},
   "source": [
    "Here as well we can see a good positive correlation between the columns. As the duration increases, the flight prices also increases. "
   ]
  },
  {
   "cell_type": "code",
   "execution_count": 66,
   "metadata": {},
   "outputs": [
    {
     "data": {
      "image/png": "[encoded data removed]",
      "text/plain": [
       "<Figure size 720x360 with 1 Axes>"
      ]
     },
     "metadata": {},
     "output_type": "display_data"
    }
   ],
   "source": [
    "sns.lmplot(x='Arv_hr', y='Price',data=df, aspect=2);"
   ]
  },
  {
   "cell_type": "markdown",
   "metadata": {},
   "source": [
    "The graph shows a positive correlation between the columns, this means the flights that arrive later in the day have a comparatively higher price."
   ]
  },
  {
   "cell_type": "code",
   "execution_count": 102,
   "metadata": {},
   "outputs": [
    {
     "data": {
      "image/png": "[encoded data removed]",
      "text/plain": [
       "<Figure size 720x360 with 1 Axes>"
      ]
     },
     "metadata": {},
     "output_type": "display_data"
    }
   ],
   "source": [
    "sns.catplot(x='Airline',y='Price', data=df1, kind='bar', aspect=2);"
   ]
  },
  {
   "cell_type": "markdown",
   "metadata": {},
   "source": [
    "Here we can see that the fare prices of AirIndia are comparatively higher than the others, this is followed by Vistara airways."
   ]
  },
  {
   "cell_type": "code",
   "execution_count": 94,
   "metadata": {},
   "outputs": [
    {
     "data": {
      "image/png": "[encoded data removed]",
      "text/plain": [
       "<Figure size 1080x360 with 1 Axes>"
      ]
     },
     "metadata": {},
     "output_type": "display_data"
    }
   ],
   "source": [
    "plt.figure(figsize=[15,5])\n",
    "sns.stripplot(data= df1, x='Dep_hr', y='Price')\n",
    "plt.show()"
   ]
  },
  {
   "cell_type": "markdown",
   "metadata": {},
   "source": [
    "We can see that there an upward trend followed by a downward trend in the graph. The most expensive Flights depart between 5AM to 12PM in the morning. Hence we can say: \n",
    "\n",
    "1. The prices tend to go up and down over time.\n",
    "2. The expensive flights run between 5 to 12 in the morning when compared to other times of the day, but there are cheaper flights as well during that time of the day. So we can say morning that flights have both expensive as well as cheaper flighs."
   ]
  },
  {
   "cell_type": "code",
   "execution_count": 99,
   "metadata": {},
   "outputs": [
    {
     "data": {
      "image/png": "[encoded data removed]",
      "text/plain": [
       "<Figure size 720x360 with 1 Axes>"
      ]
     },
     "metadata": {},
     "output_type": "display_data"
    }
   ],
   "source": [
    "sns.factorplot(x ='Date', y ='Price', data = df, aspect=2);"
   ]
  },
  {
   "cell_type": "markdown",
   "metadata": {},
   "source": [
    "With the Date feature, we can see a negative correlation with the target, which means that as we get closer to the departure date, the prices of the fares increases."
   ]
  },
  {
   "cell_type": "markdown",
   "metadata": {},
   "source": [
    "By analysing all the above graphs, we can say that:\n",
    "   \n",
    "1. Yes, airfares do change frequently, it changes with different times of the day and also for different dates.\n",
    "2. The fare for the present day flights are very high and for the next day there is a drop in the price with a quite larg jump, and following this the fares of flights vary in small jumps in the prices decreasing as we go further in the date.\n",
    "3. We can say that the best time to buy tickets is a week or two before the travel date, and if this is not possible customers can buy ticket atleast 2 days before the travel and they can opt for flights between 5AM to 2PM of the day as the majority of the flights fly between these hours and the customers will find more options on flights during these hours, also the customers should keep into consideration the duration of the fligh they opt for as the duration is positive correlated with the price of fare."
   ]
  },
  {
   "cell_type": "code",
   "execution_count": 61,
   "metadata": {},
   "outputs": [
    {
     "data": {
      "image/png": "[encoded data removed]",
      "text/plain": [
       "<Figure size 720x360 with 1 Axes>"
      ]
     },
     "metadata": {},
     "output_type": "display_data"
    }
   ],
   "source": [
    "sns.lmplot(x ='Arv_min',y ='Price', data = df, aspect=2);"
   ]
  },
  {
   "cell_type": "markdown",
   "metadata": {},
   "source": [
    "In the graph, we can see no correlation between the feature column and the target, A near zero correlation, and this may affect our model performance, Hence we will be dropping the feature."
   ]
  },
  {
   "cell_type": "code",
   "execution_count": 46,
   "metadata": {},
   "outputs": [],
   "source": [
    "df.drop(['Arv_min'], axis=1, inplace=True)"
   ]
  },
  {
   "cell_type": "markdown",
   "metadata": {},
   "source": [
    "### Checking for Outliers"
   ]
  },
  {
   "cell_type": "code",
   "execution_count": 87,
   "metadata": {},
   "outputs": [
    {
     "data": {
      "image/png": "[encoded data removed]",
      "text/plain": [
       "<Figure size 1080x504 with 1 Axes>"
      ]
     },
     "metadata": {},
     "output_type": "display_data"
    }
   ],
   "source": [
    "# Checking for outliers in the numeric data.\n",
    "\n",
    "df1.boxplot(figsize=(15,7))\n",
    "plt.show()"
   ]
  },
  {
   "cell_type": "markdown",
   "metadata": {},
   "source": [
    "We can see some outliers present in the target column, but we can't make alterations with the target data."
   ]
  },
  {
   "cell_type": "code",
   "execution_count": 85,
   "metadata": {},
   "outputs": [
    {
     "data": {
      "image/png": "[encoded data removed]",
      "text/plain": [
       "<Figure size 1440x504 with 1 Axes>"
      ]
     },
     "metadata": {},
     "output_type": "display_data"
    }
   ],
   "source": [
    "df.iloc[:,6:].boxplot(figsize=[20,7])\n",
    "plt.show()"
   ]
  },
  {
   "cell_type": "markdown",
   "metadata": {},
   "source": [
    "Here we can see some outliers present in the Departure data and Duration data. Bus since the departure data lies between a range of 0 to 24, there can be no outliers present there. Also there are very few outliers present in the duration column which are very close to the threshold, hence we will keep the data as removing them will lead to data loss."
   ]
  },
  {
   "cell_type": "markdown",
   "metadata": {},
   "source": [
    "### Checking Skewness"
   ]
  },
  {
   "cell_type": "code",
   "execution_count": 47,
   "metadata": {},
   "outputs": [
    {
     "data": {
      "text/plain": [
       "Arv_hr    -0.179454\n",
       "Dep_hr     1.386065\n",
       "Dep_min    0.157864\n",
       "Dur_hr     0.911712\n",
       "Dur_min   -0.024872\n",
       "Stops      0.725035\n",
       "dtype: float64"
      ]
     },
     "execution_count": 47,
     "metadata": {},
     "output_type": "execute_result"
    }
   ],
   "source": [
    "# checking skewness for continious numeric columns.\n",
    "\n",
    "col=['Arv_hr','Dep_hr','Dep_min','Dur_hr','Dur_min','Stops']\n",
    "df[col].skew()"
   ]
  },
  {
   "cell_type": "code",
   "execution_count": 48,
   "metadata": {},
   "outputs": [
    {
     "data": {
      "text/plain": [
       "Airline        0.199050\n",
       "Date           0.158064\n",
       "Source         0.410213\n",
       "Destination    0.080523\n",
       "Stops          0.020242\n",
       "Price          1.711768\n",
       "Dep_hr         0.110741\n",
       "Dep_min        0.157864\n",
       "Arv_hr        -0.179454\n",
       "Dur_hr        -0.049026\n",
       "Dur_min       -0.024872\n",
       "dtype: float64"
      ]
     },
     "execution_count": 48,
     "metadata": {},
     "output_type": "execute_result"
    }
   ],
   "source": [
    "# treating skewness by taking the threshold of -0.5 to +0.5.\n",
    "\n",
    "from sklearn.preprocessing import power_transform\n",
    "\n",
    "for i in df[col]:\n",
    "    if df[i].skew()>0.5:\n",
    "        df[i]= power_transform(df[i].values.reshape(-1,1))\n",
    "        \n",
    "    if df[i].skew()<-0.5:\n",
    "        df[i]= power_transform(df[i].values.reshape(-1,1))\n",
    "\n",
    "df.skew()"
   ]
  },
  {
   "cell_type": "markdown",
   "metadata": {},
   "source": [
    "We have treated the skewness in the data, we can proceed now."
   ]
  },
  {
   "cell_type": "markdown",
   "metadata": {},
   "source": [
    "### Scaling"
   ]
  },
  {
   "cell_type": "code",
   "execution_count": 49,
   "metadata": {},
   "outputs": [],
   "source": [
    "# First lets split the data into target and features.\n",
    "\n",
    "x= df.drop(['Price'], axis=1)\n",
    "y= df['Price']"
   ]
  },
  {
   "cell_type": "code",
   "execution_count": 50,
   "metadata": {},
   "outputs": [
    {
     "data": {
      "text/html": [
       "<div>\n",
       "<style scoped>\n",
       "    .dataframe tbody tr th:only-of-type {\n",
       "        vertical-align: middle;\n",
       "    }\n",
       "\n",
       "    .dataframe tbody tr th {\n",
       "        vertical-align: top;\n",
       "    }\n",
       "\n",
       "    .dataframe thead th {\n",
       "        text-align: right;\n",
       "    }\n",
       "</style>\n",
       "<table border=\"1\" class=\"dataframe\">\n",
       "  <thead>\n",
       "    <tr style=\"text-align: right;\">\n",
       "      <th></th>\n",
       "      <th>Airline</th>\n",
       "      <th>Date</th>\n",
       "      <th>Source</th>\n",
       "      <th>Destination</th>\n",
       "      <th>Stops</th>\n",
       "      <th>Dep_hr</th>\n",
       "      <th>Dep_min</th>\n",
       "      <th>Arv_hr</th>\n",
       "      <th>Dur_hr</th>\n",
       "      <th>Dur_min</th>\n",
       "    </tr>\n",
       "  </thead>\n",
       "  <tbody>\n",
       "    <tr>\n",
       "      <th>0</th>\n",
       "      <td>-0.845400</td>\n",
       "      <td>-1.540863</td>\n",
       "      <td>-0.457666</td>\n",
       "      <td>1.156826</td>\n",
       "      <td>0.075860</td>\n",
       "      <td>-1.283834</td>\n",
       "      <td>1.715799</td>\n",
       "      <td>-0.054829</td>\n",
       "      <td>0.072722</td>\n",
       "      <td>0.128029</td>\n",
       "    </tr>\n",
       "    <tr>\n",
       "      <th>1</th>\n",
       "      <td>-0.845400</td>\n",
       "      <td>-1.540863</td>\n",
       "      <td>-0.457666</td>\n",
       "      <td>1.156826</td>\n",
       "      <td>1.428901</td>\n",
       "      <td>-0.874914</td>\n",
       "      <td>-0.226191</td>\n",
       "      <td>1.640479</td>\n",
       "      <td>0.971304</td>\n",
       "      <td>0.992629</td>\n",
       "    </tr>\n",
       "    <tr>\n",
       "      <th>2</th>\n",
       "      <td>-0.845400</td>\n",
       "      <td>-1.540863</td>\n",
       "      <td>-0.457666</td>\n",
       "      <td>1.156826</td>\n",
       "      <td>1.428901</td>\n",
       "      <td>-0.874914</td>\n",
       "      <td>-0.226191</td>\n",
       "      <td>-0.996666</td>\n",
       "      <td>1.813683</td>\n",
       "      <td>-1.601172</td>\n",
       "    </tr>\n",
       "    <tr>\n",
       "      <th>3</th>\n",
       "      <td>-1.444259</td>\n",
       "      <td>-1.540863</td>\n",
       "      <td>-0.457666</td>\n",
       "      <td>1.156826</td>\n",
       "      <td>1.428901</td>\n",
       "      <td>-0.874914</td>\n",
       "      <td>0.606090</td>\n",
       "      <td>1.452111</td>\n",
       "      <td>0.877484</td>\n",
       "      <td>0.416229</td>\n",
       "    </tr>\n",
       "    <tr>\n",
       "      <th>4</th>\n",
       "      <td>-0.845400</td>\n",
       "      <td>-1.540863</td>\n",
       "      <td>-0.457666</td>\n",
       "      <td>1.156826</td>\n",
       "      <td>0.075860</td>\n",
       "      <td>-0.874914</td>\n",
       "      <td>1.160945</td>\n",
       "      <td>-0.996666</td>\n",
       "      <td>-1.070701</td>\n",
       "      <td>1.569029</td>\n",
       "    </tr>\n",
       "    <tr>\n",
       "      <th>...</th>\n",
       "      <td>...</td>\n",
       "      <td>...</td>\n",
       "      <td>...</td>\n",
       "      <td>...</td>\n",
       "      <td>...</td>\n",
       "      <td>...</td>\n",
       "      <td>...</td>\n",
       "      <td>...</td>\n",
       "      <td>...</td>\n",
       "      <td>...</td>\n",
       "    </tr>\n",
       "    <tr>\n",
       "      <th>5832</th>\n",
       "      <td>1.550037</td>\n",
       "      <td>1.607347</td>\n",
       "      <td>1.456764</td>\n",
       "      <td>-1.565182</td>\n",
       "      <td>0.075860</td>\n",
       "      <td>0.891901</td>\n",
       "      <td>1.715799</td>\n",
       "      <td>-1.185034</td>\n",
       "      <td>1.231721</td>\n",
       "      <td>-1.024772</td>\n",
       "    </tr>\n",
       "    <tr>\n",
       "      <th>5833</th>\n",
       "      <td>1.550037</td>\n",
       "      <td>1.607347</td>\n",
       "      <td>1.456764</td>\n",
       "      <td>-1.565182</td>\n",
       "      <td>0.075860</td>\n",
       "      <td>0.891901</td>\n",
       "      <td>1.715799</td>\n",
       "      <td>-0.808299</td>\n",
       "      <td>1.390607</td>\n",
       "      <td>-0.160172</td>\n",
       "    </tr>\n",
       "    <tr>\n",
       "      <th>5834</th>\n",
       "      <td>-0.246541</td>\n",
       "      <td>1.607347</td>\n",
       "      <td>1.456764</td>\n",
       "      <td>-1.565182</td>\n",
       "      <td>0.075860</td>\n",
       "      <td>1.119647</td>\n",
       "      <td>0.883517</td>\n",
       "      <td>0.510274</td>\n",
       "      <td>-0.817907</td>\n",
       "      <td>0.128029</td>\n",
       "    </tr>\n",
       "    <tr>\n",
       "      <th>5835</th>\n",
       "      <td>-0.246541</td>\n",
       "      <td>1.607347</td>\n",
       "      <td>1.456764</td>\n",
       "      <td>-1.565182</td>\n",
       "      <td>0.075860</td>\n",
       "      <td>1.119647</td>\n",
       "      <td>0.883517</td>\n",
       "      <td>1.452111</td>\n",
       "      <td>0.072722</td>\n",
       "      <td>-0.160172</td>\n",
       "    </tr>\n",
       "    <tr>\n",
       "      <th>5836</th>\n",
       "      <td>-0.246541</td>\n",
       "      <td>1.607347</td>\n",
       "      <td>1.456764</td>\n",
       "      <td>-1.565182</td>\n",
       "      <td>0.075860</td>\n",
       "      <td>1.335251</td>\n",
       "      <td>0.051236</td>\n",
       "      <td>1.263744</td>\n",
       "      <td>-0.073709</td>\n",
       "      <td>-0.448372</td>\n",
       "    </tr>\n",
       "  </tbody>\n",
       "</table>\n",
       "<p>5837 rows × 10 columns</p>\n",
       "</div>"
      ],
      "text/plain": [
       "       Airline      Date    Source  Destination     Stops    Dep_hr   Dep_min  \\\n",
       "0    -0.845400 -1.540863 -0.457666     1.156826  0.075860 -1.283834  1.715799   \n",
       "1    -0.845400 -1.540863 -0.457666     1.156826  1.428901 -0.874914 -0.226191   \n",
       "2    -0.845400 -1.540863 -0.457666     1.156826  1.428901 -0.874914 -0.226191   \n",
       "3    -1.444259 -1.540863 -0.457666     1.156826  1.428901 -0.874914  0.606090   \n",
       "4    -0.845400 -1.540863 -0.457666     1.156826  0.075860 -0.874914  1.160945   \n",
       "...        ...       ...       ...          ...       ...       ...       ...   \n",
       "5832  1.550037  1.607347  1.456764    -1.565182  0.075860  0.891901  1.715799   \n",
       "5833  1.550037  1.607347  1.456764    -1.565182  0.075860  0.891901  1.715799   \n",
       "5834 -0.246541  1.607347  1.456764    -1.565182  0.075860  1.119647  0.883517   \n",
       "5835 -0.246541  1.607347  1.456764    -1.565182  0.075860  1.119647  0.883517   \n",
       "5836 -0.246541  1.607347  1.456764    -1.565182  0.075860  1.335251  0.051236   \n",
       "\n",
       "        Arv_hr    Dur_hr   Dur_min  \n",
       "0    -0.054829  0.072722  0.128029  \n",
       "1     1.640479  0.971304  0.992629  \n",
       "2    -0.996666  1.813683 -1.601172  \n",
       "3     1.452111  0.877484  0.416229  \n",
       "4    -0.996666 -1.070701  1.569029  \n",
       "...        ...       ...       ...  \n",
       "5832 -1.185034  1.231721 -1.024772  \n",
       "5833 -0.808299  1.390607 -0.160172  \n",
       "5834  0.510274 -0.817907  0.128029  \n",
       "5835  1.452111  0.072722 -0.160172  \n",
       "5836  1.263744 -0.073709 -0.448372  \n",
       "\n",
       "[5837 rows x 10 columns]"
      ]
     },
     "execution_count": 50,
     "metadata": {},
     "output_type": "execute_result"
    }
   ],
   "source": [
    "# Scaling\n",
    "\n",
    "from sklearn.preprocessing import StandardScaler\n",
    "\n",
    "sc=StandardScaler()\n",
    "x=pd.DataFrame(sc.fit_transform(x), columns=x.columns)\n",
    "x"
   ]
  },
  {
   "cell_type": "markdown",
   "metadata": {},
   "source": [
    "### Finding the best Random state"
   ]
  },
  {
   "cell_type": "code",
   "execution_count": 53,
   "metadata": {},
   "outputs": [
    {
     "name": "stdout",
     "output_type": "stream",
     "text": [
      "Best score:  0.3196552990001651 on random state 57\n"
     ]
    }
   ],
   "source": [
    "maxscr=0\n",
    "maxrs=0\n",
    "for i in range(1,100):\n",
    "    x_train,x_test,y_train,y_test= train_test_split(x,y, test_size=.20,random_state=i)\n",
    "    lr= LinearRegression()\n",
    "    lr.fit(x_train,y_train)\n",
    "    predlr= lr.predict(x_test)\n",
    "    scr= r2_score(y_test,predlr)\n",
    "    if scr>maxscr:\n",
    "        maxscr=scr\n",
    "        maxrs= i\n",
    "print('Best score: ', maxscr,'on random state', maxrs)"
   ]
  },
  {
   "cell_type": "code",
   "execution_count": 54,
   "metadata": {},
   "outputs": [],
   "source": [
    "# Creating train and test split using the random state found best.\n",
    "\n",
    "x_train,x_test,y_train,y_test= train_test_split(x,y, test_size=.20,random_state=57)"
   ]
  },
  {
   "cell_type": "markdown",
   "metadata": {},
   "source": [
    "### Model Building"
   ]
  },
  {
   "cell_type": "code",
   "execution_count": 55,
   "metadata": {},
   "outputs": [
    {
     "name": "stdout",
     "output_type": "stream",
     "text": [
      "Score:  0.25895014660531457\n",
      "r2 score:  0.3196552990001651\n",
      "Mean absolute error: 2365.0665882032818\n",
      "Mean squared error: 11440676.34430043\n",
      "Root mean squared error: 3382.4068862720274\n"
     ]
    }
   ],
   "source": [
    "lr.fit(x_train,y_train)\n",
    "predlr= lr.predict(x_test)\n",
    "\n",
    "print('Score: ',lr.score(x_train,y_train))\n",
    "print('r2 score: ', r2_score(y_test,predlr))\n",
    "print('Mean absolute error:', mean_absolute_error(y_test,predlr))\n",
    "print('Mean squared error:', mean_squared_error(y_test,predlr))\n",
    "print('Root mean squared error:', np.sqrt(mean_squared_error(y_test,predlr)))"
   ]
  },
  {
   "cell_type": "code",
   "execution_count": 56,
   "metadata": {},
   "outputs": [
    {
     "name": "stdout",
     "output_type": "stream",
     "text": [
      "Score:  0.9988874940041893\n",
      "r2 score:  0.7536678152554132\n",
      "Mean absolute error: 701.5667808219179\n",
      "Mean squared error: 4142321.965182649\n",
      "Root mean squared error: 2035.2695067687348\n"
     ]
    }
   ],
   "source": [
    "from sklearn.tree import DecisionTreeRegressor\n",
    "\n",
    "dt= DecisionTreeRegressor()\n",
    "dt.fit(x_train,y_train)\n",
    "preddt= dt.predict(x_test)\n",
    "\n",
    "print('Score: ',dt.score(x_train,y_train))\n",
    "print('r2 score: ', r2_score(y_test,preddt))\n",
    "print('Mean absolute error:', mean_absolute_error(y_test,preddt))\n",
    "print('Mean squared error:', mean_squared_error(y_test,preddt))\n",
    "print('Root mean squared error:', np.sqrt(mean_squared_error(y_test,preddt)))"
   ]
  },
  {
   "cell_type": "code",
   "execution_count": 57,
   "metadata": {},
   "outputs": [
    {
     "name": "stdout",
     "output_type": "stream",
     "text": [
      "Score:  0.9712505417803431\n",
      "r2 score:  0.7974581764516215\n",
      "Mean absolute error: 849.7857910433839\n",
      "Mean squared error: 3405943.260814737\n",
      "Root mean squared error: 1845.5197806620056\n"
     ]
    }
   ],
   "source": [
    "from sklearn.ensemble import RandomForestRegressor\n",
    "\n",
    "fr=RandomForestRegressor()\n",
    "fr.fit(x_train,y_train)\n",
    "predfr=fr.predict(x_test)\n",
    "\n",
    "print('Score: ',fr.score(x_train,y_train))\n",
    "print('r2 score: ', r2_score(y_test,predfr))\n",
    "print('Mean absolute error:', mean_absolute_error(y_test,predfr))\n",
    "print('Mean squared error:', mean_squared_error(y_test,predfr))\n",
    "print('Root mean squared error:', np.sqrt(mean_squared_error(y_test,predfr)))"
   ]
  },
  {
   "cell_type": "code",
   "execution_count": 58,
   "metadata": {},
   "outputs": [
    {
     "name": "stdout",
     "output_type": "stream",
     "text": [
      "Score:  0.1893517293107334\n",
      "r2 score:  0.2528631394752313\n",
      "Mean absolute error: 2407.0639032352387\n",
      "Mean squared error: 12563853.284370162\n",
      "Root mean squared error: 3544.552621187921\n"
     ]
    }
   ],
   "source": [
    "from sklearn.svm import SVR\n",
    "\n",
    "svr= SVR(kernel='linear')\n",
    "svr.fit(x_train,y_train)\n",
    "preds= svr.predict(x_test)\n",
    "\n",
    "print('Score: ',svr.score(x_train,y_train))\n",
    "print('r2 score: ', r2_score(y_test,preds))\n",
    "print('Mean absolute error:', mean_absolute_error(y_test,preds))\n",
    "print('Mean squared error:', mean_squared_error(y_test,preds))\n",
    "print('Root mean squared error:', np.sqrt(mean_squared_error(y_test,preds)))"
   ]
  },
  {
   "cell_type": "code",
   "execution_count": 61,
   "metadata": {},
   "outputs": [
    {
     "name": "stdout",
     "output_type": "stream",
     "text": [
      "Score:  0.2589496294467364\n",
      "r2 score:  0.31968173343515505\n",
      "Mean absolute error: 2365.027754207589\n",
      "Mean squared error: 11440231.82284738\n",
      "Root mean squared error: 3382.3411748147732\n"
     ]
    }
   ],
   "source": [
    "from sklearn.linear_model import Lasso\n",
    "\n",
    "ls= Lasso()\n",
    "ls.fit(x_train,y_train)\n",
    "predrd= ls.predict(x_test)\n",
    "\n",
    "print('Score: ',ls.score(x_train,y_train))\n",
    "print('r2 score: ', r2_score(y_test,predrd))\n",
    "print('Mean absolute error:', mean_absolute_error(y_test,predrd))\n",
    "print('Mean squared error:', mean_squared_error(y_test,predrd))\n",
    "print('Root mean squared error:', np.sqrt(mean_squared_error(y_test,predrd)))"
   ]
  },
  {
   "cell_type": "code",
   "execution_count": 63,
   "metadata": {},
   "outputs": [
    {
     "name": "stdout",
     "output_type": "stream",
     "text": [
      "Score:  0.9550452101497624\n",
      "r2 score:  0.7516614514340874\n",
      "Mean absolute error: 1065.9408841067798\n",
      "Mean squared error: 4176060.9787664535\n",
      "Root mean squared error: 2043.5412838419618\n"
     ]
    }
   ],
   "source": [
    "from xgboost import XGBRegressor\n",
    "\n",
    "xgb = XGBRegressor()\n",
    "xgb.fit(x_train,y_train)\n",
    "predx= xgb.predict(x_test)\n",
    "\n",
    "print('Score: ',xgb.score(x_train,y_train))\n",
    "print('r2 score: ', r2_score(y_test,predx))\n",
    "print('Mean absolute error:', mean_absolute_error(y_test,predx))\n",
    "print('Mean squared error:', mean_squared_error(y_test,predx))\n",
    "print('Root mean squared error:', np.sqrt(mean_squared_error(y_test,predx)))"
   ]
  },
  {
   "cell_type": "markdown",
   "metadata": {},
   "source": [
    "In the above codes, we are importing the models and then assigning the model to a variable. Using that variable we are training the model with the train sets of the features and target and then we are predicting the target for the test features set. And finally by comparing the predicted target and the actual target, we get the r2 score of the model along with the errors in it. we also find the training score of the model by comparing the training sets.\n",
    "\n",
    "By comparing all the above models, we can say that the Decision tree, Ramdom forest and XG boost models are giving us the highest scores among all. But this may be due to overfitting, Hence now lets check the CV scores of all the models for any overfitting or underfitting in the models."
   ]
  },
  {
   "cell_type": "markdown",
   "metadata": {},
   "source": [
    "### Checking CV score"
   ]
  },
  {
   "cell_type": "code",
   "execution_count": 64,
   "metadata": {},
   "outputs": [
    {
     "name": "stdout",
     "output_type": "stream",
     "text": [
      "cross validation score for linear reg model:  0.20300906641876812\n"
     ]
    }
   ],
   "source": [
    "from sklearn.model_selection import cross_val_score\n",
    "\n",
    "scr= cross_val_score(lr,x,y,cv=4)\n",
    "print('cross validation score for linear reg model: ', scr.mean())"
   ]
  },
  {
   "cell_type": "code",
   "execution_count": 65,
   "metadata": {},
   "outputs": [
    {
     "name": "stdout",
     "output_type": "stream",
     "text": [
      "cross validation score for Decision tree reg model:  -0.0770088487940393\n"
     ]
    }
   ],
   "source": [
    "scr= cross_val_score(dt,x,y,cv=4)\n",
    "print('cross validation score for Decision tree reg model: ', scr.mean())"
   ]
  },
  {
   "cell_type": "code",
   "execution_count": 66,
   "metadata": {},
   "outputs": [
    {
     "name": "stdout",
     "output_type": "stream",
     "text": [
      "cross validation score for Random forest reg model:  0.438458900666332\n"
     ]
    }
   ],
   "source": [
    "scr= cross_val_score(fr,x,y,cv=4)\n",
    "print('cross validation score for Random forest reg model: ', scr.mean())"
   ]
  },
  {
   "cell_type": "code",
   "execution_count": 67,
   "metadata": {},
   "outputs": [
    {
     "name": "stdout",
     "output_type": "stream",
     "text": [
      "cross validation score for support vector reg model:  0.13967473410823725\n"
     ]
    }
   ],
   "source": [
    "scr= cross_val_score(svr,x,y,cv=4)\n",
    "print('cross validation score for support vector reg model: ', scr.mean())"
   ]
  },
  {
   "cell_type": "code",
   "execution_count": 68,
   "metadata": {},
   "outputs": [
    {
     "name": "stdout",
     "output_type": "stream",
     "text": [
      "cross validation score for Lasso reg model:  0.2029970445557827\n"
     ]
    }
   ],
   "source": [
    "scr= cross_val_score(ls,x,y,cv=4)\n",
    "print('cross validation score for Lasso reg model: ', scr.mean())"
   ]
  },
  {
   "cell_type": "code",
   "execution_count": 69,
   "metadata": {},
   "outputs": [
    {
     "name": "stdout",
     "output_type": "stream",
     "text": [
      "cross validation score for xgboost model:  0.40557727189014103\n"
     ]
    }
   ],
   "source": [
    "scr= cross_val_score(xgb,x,y,cv=4)\n",
    "print('cross validation score for xgboost model: ', scr.mean())"
   ]
  },
  {
   "cell_type": "markdown",
   "metadata": {},
   "source": [
    "Here we have found the cross validation score for all the models, we can see that the Random forest and XGboost models are giving us a better score. The score for Decision tree model is very less, which means it was being overfitted. Now lets hyperparameter tune the two better performing medels and finds the best among them."
   ]
  },
  {
   "cell_type": "markdown",
   "metadata": {},
   "source": [
    "### Hyperparameter tuning"
   ]
  },
  {
   "cell_type": "markdown",
   "metadata": {},
   "source": [
    "We will be hypertuning the models by training the models with different values of all its different parameters to find the best performing parameters for the models."
   ]
  },
  {
   "cell_type": "code",
   "execution_count": 83,
   "metadata": {},
   "outputs": [
    {
     "data": {
      "text/plain": [
       "{'n_estimators': 150,\n",
       " 'max_features': 'log2',\n",
       " 'max_depth': 10,\n",
       " 'criterion': 'mae'}"
      ]
     },
     "execution_count": 83,
     "metadata": {},
     "output_type": "execute_result"
    }
   ],
   "source": [
    "from sklearn.model_selection import RandomizedSearchCV\n",
    "\n",
    "par1= {'n_estimators':[50,100,150], 'max_depth':['None',5,6,7,8,9,10], 'criterion':['mse','mae'], 'max_features' : [\"auto\", \"sqrt\", \"log2\"]}\n",
    "\n",
    "rcvfr= RandomizedSearchCV(fr,par1,cv=5) \n",
    "rcvfr.fit(x_train,y_train)\n",
    "\n",
    "rcvfr.best_params_"
   ]
  },
  {
   "cell_type": "code",
   "execution_count": 85,
   "metadata": {},
   "outputs": [
    {
     "name": "stdout",
     "output_type": "stream",
     "text": [
      "Score:  0.9500928057285216\n",
      "r2 score:  0.7681884104797714\n",
      "Mean absolute error: 917.4228909817352\n",
      "Mean squared error: 3898143.6390424753\n",
      "Root mean squared error: 1974.3717074154185\n"
     ]
    }
   ],
   "source": [
    "# Using the above parameter which are found to be best, we create our model.\n",
    "\n",
    "finalmodel1= RandomForestRegressor(n_estimators= 150, max_features= 'log2', max_depth=10, criterion= 'mae')\n",
    "finalmodel1.fit(x_train,y_train)\n",
    "predf1=finalmodel1.predict(x_test)\n",
    "\n",
    "print('Score: ',finalmodel1.score(x_train,y_train))\n",
    "print('r2 score: ', r2_score(y_test,predf1))\n",
    "print('Mean absolute error:', mean_absolute_error(y_test,predf1))\n",
    "print('Mean squared error:', mean_squared_error(y_test,predf1))\n",
    "print('Root mean squared error:', np.sqrt(mean_squared_error(y_test,predf1)))"
   ]
  },
  {
   "cell_type": "markdown",
   "metadata": {},
   "source": [
    "With Random forest model, we are getting the training score 95% , R2 score of 77% and the errors are less."
   ]
  },
  {
   "cell_type": "code",
   "execution_count": 92,
   "metadata": {},
   "outputs": [
    {
     "data": {
      "text/plain": [
       "{'n_estimators': 100, 'max_depth': 9, 'learning_rate': 0.1}"
      ]
     },
     "execution_count": 92,
     "metadata": {},
     "output_type": "execute_result"
    }
   ],
   "source": [
    "par2= {'n_estimators':[50,100,150], 'max_depth':[5,6,7,8,9,10], 'learning_rate' :[0.001, 0.01, 0.1,1] }\n",
    "\n",
    "gcvxg= RandomizedSearchCV(xgb, par2,cv=5) \n",
    "gcvxg.fit(x_train,y_train)\n",
    "gcvxg.best_params_"
   ]
  },
  {
   "cell_type": "code",
   "execution_count": 93,
   "metadata": {},
   "outputs": [
    {
     "name": "stdout",
     "output_type": "stream",
     "text": [
      "Score:  0.9779799073628291\n",
      "r2 score:  0.7810727011311502\n",
      "Mean absolute error: 887.8173621190738\n",
      "Mean squared error: 3681481.4102462553\n",
      "Root mean squared error: 1918.718689710989\n"
     ]
    }
   ],
   "source": [
    "# Now using the above parameter which are found to be best, we create our model.\n",
    "\n",
    "finalmodel2= XGBRegressor(n_estimators= 100, learning_rate= 0.1, max_depth=9)\n",
    "finalmodel2.fit(x_train,y_train)\n",
    "predf2=finalmodel2.predict(x_test)\n",
    "print('Score: ',finalmodel2.score(x_train,y_train))\n",
    "print('r2 score: ', r2_score(y_test,predf2))\n",
    "print('Mean absolute error:', mean_absolute_error(y_test,predf2))\n",
    "print('Mean squared error:', mean_squared_error(y_test,predf2))\n",
    "print('Root mean squared error:', np.sqrt(mean_squared_error(y_test,predf2)))"
   ]
  },
  {
   "cell_type": "markdown",
   "metadata": {},
   "source": [
    "With XG Boost model, we are getting the training score of 97%, R2 score of 78% and the errors are less."
   ]
  },
  {
   "cell_type": "markdown",
   "metadata": {},
   "source": [
    "By analysing both the models, we can say that the XG Boost model is performing slightly better as compared to Random forest model, as the training score and r2 score are slightly better in the XGBoost model and also the errors are comparatively less. Hence we will make XG Boost model our final model."
   ]
  },
  {
   "cell_type": "markdown",
   "metadata": {},
   "source": [
    "### Saving the model"
   ]
  },
  {
   "cell_type": "code",
   "execution_count": 94,
   "metadata": {},
   "outputs": [
    {
     "data": {
      "text/plain": [
       "['FlightPrice_fliprobo.pkl']"
      ]
     },
     "execution_count": 94,
     "metadata": {},
     "output_type": "execute_result"
    }
   ],
   "source": [
    "import joblib\n",
    "\n",
    "joblib.dump(finalmodel2,'FlightPrice_fliprobo.pkl')"
   ]
  },
  {
   "cell_type": "code",
   "execution_count": null,
   "metadata": {},
   "outputs": [],
   "source": []
  }
 ],
 "metadata": {
  "kernelspec": {
   "display_name": "Python 3",
   "language": "python",
   "name": "python3"
  },
  "language_info": {
   "codemirror_mode": {
    "name": "ipython",
    "version": 3
   },
   "file_extension": ".py",
   "mimetype": "text/x-python",
   "name": "python",
   "nbconvert_exporter": "python",
   "pygments_lexer": "ipython3",
   "version": "3.8.3"
  }
 },
 "nbformat": 4,
 "nbformat_minor": 4
}
